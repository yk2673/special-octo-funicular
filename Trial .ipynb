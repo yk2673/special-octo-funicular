{
 "cells": [
  {
   "cell_type": "markdown",
   "metadata": {},
   "source": [
    "# Black Friday and Consumer Behaviors"
   ]
  },
  {
   "cell_type": "markdown",
   "metadata": {},
   "source": [
    "I am a Python newbie and wanted to \n",
    "build portfolio from one of the shared datas from Kaggle. \n",
    "This may not be an accurate measure, I am just doing this to gain some experience. "
   ]
  },
  {
   "cell_type": "code",
   "execution_count": 3,
   "metadata": {},
   "outputs": [],
   "source": [
    "import pandas as pd\n",
    "import numpy as np"
   ]
  },
  {
   "cell_type": "code",
   "execution_count": 4,
   "metadata": {},
   "outputs": [
    {
     "data": {
      "text/html": [
       "<div>\n",
       "<style scoped>\n",
       "    .dataframe tbody tr th:only-of-type {\n",
       "        vertical-align: middle;\n",
       "    }\n",
       "\n",
       "    .dataframe tbody tr th {\n",
       "        vertical-align: top;\n",
       "    }\n",
       "\n",
       "    .dataframe thead th {\n",
       "        text-align: right;\n",
       "    }\n",
       "</style>\n",
       "<table border=\"1\" class=\"dataframe\">\n",
       "  <thead>\n",
       "    <tr style=\"text-align: right;\">\n",
       "      <th></th>\n",
       "      <th>User_ID</th>\n",
       "      <th>Product_ID</th>\n",
       "      <th>Gender</th>\n",
       "      <th>Age</th>\n",
       "      <th>Occupation</th>\n",
       "      <th>City_Category</th>\n",
       "      <th>Stay_In_Current_City_Years</th>\n",
       "      <th>Marital_Status</th>\n",
       "      <th>Product_Category_1</th>\n",
       "      <th>Product_Category_2</th>\n",
       "      <th>Product_Category_3</th>\n",
       "      <th>Purchase</th>\n",
       "    </tr>\n",
       "  </thead>\n",
       "  <tbody>\n",
       "    <tr>\n",
       "      <th>0</th>\n",
       "      <td>1000001</td>\n",
       "      <td>P00069042</td>\n",
       "      <td>F</td>\n",
       "      <td>0-17</td>\n",
       "      <td>10</td>\n",
       "      <td>A</td>\n",
       "      <td>2</td>\n",
       "      <td>0</td>\n",
       "      <td>3</td>\n",
       "      <td>NaN</td>\n",
       "      <td>NaN</td>\n",
       "      <td>8370</td>\n",
       "    </tr>\n",
       "    <tr>\n",
       "      <th>1</th>\n",
       "      <td>1000001</td>\n",
       "      <td>P00248942</td>\n",
       "      <td>F</td>\n",
       "      <td>0-17</td>\n",
       "      <td>10</td>\n",
       "      <td>A</td>\n",
       "      <td>2</td>\n",
       "      <td>0</td>\n",
       "      <td>1</td>\n",
       "      <td>6.0</td>\n",
       "      <td>14.0</td>\n",
       "      <td>15200</td>\n",
       "    </tr>\n",
       "    <tr>\n",
       "      <th>2</th>\n",
       "      <td>1000001</td>\n",
       "      <td>P00087842</td>\n",
       "      <td>F</td>\n",
       "      <td>0-17</td>\n",
       "      <td>10</td>\n",
       "      <td>A</td>\n",
       "      <td>2</td>\n",
       "      <td>0</td>\n",
       "      <td>12</td>\n",
       "      <td>NaN</td>\n",
       "      <td>NaN</td>\n",
       "      <td>1422</td>\n",
       "    </tr>\n",
       "    <tr>\n",
       "      <th>3</th>\n",
       "      <td>1000001</td>\n",
       "      <td>P00085442</td>\n",
       "      <td>F</td>\n",
       "      <td>0-17</td>\n",
       "      <td>10</td>\n",
       "      <td>A</td>\n",
       "      <td>2</td>\n",
       "      <td>0</td>\n",
       "      <td>12</td>\n",
       "      <td>14.0</td>\n",
       "      <td>NaN</td>\n",
       "      <td>1057</td>\n",
       "    </tr>\n",
       "    <tr>\n",
       "      <th>4</th>\n",
       "      <td>1000002</td>\n",
       "      <td>P00285442</td>\n",
       "      <td>M</td>\n",
       "      <td>55+</td>\n",
       "      <td>16</td>\n",
       "      <td>C</td>\n",
       "      <td>4+</td>\n",
       "      <td>0</td>\n",
       "      <td>8</td>\n",
       "      <td>NaN</td>\n",
       "      <td>NaN</td>\n",
       "      <td>7969</td>\n",
       "    </tr>\n",
       "    <tr>\n",
       "      <th>5</th>\n",
       "      <td>1000003</td>\n",
       "      <td>P00193542</td>\n",
       "      <td>M</td>\n",
       "      <td>26-35</td>\n",
       "      <td>15</td>\n",
       "      <td>A</td>\n",
       "      <td>3</td>\n",
       "      <td>0</td>\n",
       "      <td>1</td>\n",
       "      <td>2.0</td>\n",
       "      <td>NaN</td>\n",
       "      <td>15227</td>\n",
       "    </tr>\n",
       "    <tr>\n",
       "      <th>6</th>\n",
       "      <td>1000004</td>\n",
       "      <td>P00184942</td>\n",
       "      <td>M</td>\n",
       "      <td>46-50</td>\n",
       "      <td>7</td>\n",
       "      <td>B</td>\n",
       "      <td>2</td>\n",
       "      <td>1</td>\n",
       "      <td>1</td>\n",
       "      <td>8.0</td>\n",
       "      <td>17.0</td>\n",
       "      <td>19215</td>\n",
       "    </tr>\n",
       "    <tr>\n",
       "      <th>7</th>\n",
       "      <td>1000004</td>\n",
       "      <td>P00346142</td>\n",
       "      <td>M</td>\n",
       "      <td>46-50</td>\n",
       "      <td>7</td>\n",
       "      <td>B</td>\n",
       "      <td>2</td>\n",
       "      <td>1</td>\n",
       "      <td>1</td>\n",
       "      <td>15.0</td>\n",
       "      <td>NaN</td>\n",
       "      <td>15854</td>\n",
       "    </tr>\n",
       "    <tr>\n",
       "      <th>8</th>\n",
       "      <td>1000004</td>\n",
       "      <td>P0097242</td>\n",
       "      <td>M</td>\n",
       "      <td>46-50</td>\n",
       "      <td>7</td>\n",
       "      <td>B</td>\n",
       "      <td>2</td>\n",
       "      <td>1</td>\n",
       "      <td>1</td>\n",
       "      <td>16.0</td>\n",
       "      <td>NaN</td>\n",
       "      <td>15686</td>\n",
       "    </tr>\n",
       "    <tr>\n",
       "      <th>9</th>\n",
       "      <td>1000005</td>\n",
       "      <td>P00274942</td>\n",
       "      <td>M</td>\n",
       "      <td>26-35</td>\n",
       "      <td>20</td>\n",
       "      <td>A</td>\n",
       "      <td>1</td>\n",
       "      <td>1</td>\n",
       "      <td>8</td>\n",
       "      <td>NaN</td>\n",
       "      <td>NaN</td>\n",
       "      <td>7871</td>\n",
       "    </tr>\n",
       "    <tr>\n",
       "      <th>10</th>\n",
       "      <td>1000005</td>\n",
       "      <td>P00251242</td>\n",
       "      <td>M</td>\n",
       "      <td>26-35</td>\n",
       "      <td>20</td>\n",
       "      <td>A</td>\n",
       "      <td>1</td>\n",
       "      <td>1</td>\n",
       "      <td>5</td>\n",
       "      <td>11.0</td>\n",
       "      <td>NaN</td>\n",
       "      <td>5254</td>\n",
       "    </tr>\n",
       "    <tr>\n",
       "      <th>11</th>\n",
       "      <td>1000005</td>\n",
       "      <td>P00014542</td>\n",
       "      <td>M</td>\n",
       "      <td>26-35</td>\n",
       "      <td>20</td>\n",
       "      <td>A</td>\n",
       "      <td>1</td>\n",
       "      <td>1</td>\n",
       "      <td>8</td>\n",
       "      <td>NaN</td>\n",
       "      <td>NaN</td>\n",
       "      <td>3957</td>\n",
       "    </tr>\n",
       "    <tr>\n",
       "      <th>12</th>\n",
       "      <td>1000005</td>\n",
       "      <td>P00031342</td>\n",
       "      <td>M</td>\n",
       "      <td>26-35</td>\n",
       "      <td>20</td>\n",
       "      <td>A</td>\n",
       "      <td>1</td>\n",
       "      <td>1</td>\n",
       "      <td>8</td>\n",
       "      <td>NaN</td>\n",
       "      <td>NaN</td>\n",
       "      <td>6073</td>\n",
       "    </tr>\n",
       "    <tr>\n",
       "      <th>13</th>\n",
       "      <td>1000005</td>\n",
       "      <td>P00145042</td>\n",
       "      <td>M</td>\n",
       "      <td>26-35</td>\n",
       "      <td>20</td>\n",
       "      <td>A</td>\n",
       "      <td>1</td>\n",
       "      <td>1</td>\n",
       "      <td>1</td>\n",
       "      <td>2.0</td>\n",
       "      <td>5.0</td>\n",
       "      <td>15665</td>\n",
       "    </tr>\n",
       "    <tr>\n",
       "      <th>14</th>\n",
       "      <td>1000006</td>\n",
       "      <td>P00231342</td>\n",
       "      <td>F</td>\n",
       "      <td>51-55</td>\n",
       "      <td>9</td>\n",
       "      <td>A</td>\n",
       "      <td>1</td>\n",
       "      <td>0</td>\n",
       "      <td>5</td>\n",
       "      <td>8.0</td>\n",
       "      <td>14.0</td>\n",
       "      <td>5378</td>\n",
       "    </tr>\n",
       "    <tr>\n",
       "      <th>15</th>\n",
       "      <td>1000006</td>\n",
       "      <td>P00190242</td>\n",
       "      <td>F</td>\n",
       "      <td>51-55</td>\n",
       "      <td>9</td>\n",
       "      <td>A</td>\n",
       "      <td>1</td>\n",
       "      <td>0</td>\n",
       "      <td>4</td>\n",
       "      <td>5.0</td>\n",
       "      <td>NaN</td>\n",
       "      <td>2079</td>\n",
       "    </tr>\n",
       "    <tr>\n",
       "      <th>16</th>\n",
       "      <td>1000006</td>\n",
       "      <td>P0096642</td>\n",
       "      <td>F</td>\n",
       "      <td>51-55</td>\n",
       "      <td>9</td>\n",
       "      <td>A</td>\n",
       "      <td>1</td>\n",
       "      <td>0</td>\n",
       "      <td>2</td>\n",
       "      <td>3.0</td>\n",
       "      <td>4.0</td>\n",
       "      <td>13055</td>\n",
       "    </tr>\n",
       "    <tr>\n",
       "      <th>17</th>\n",
       "      <td>1000006</td>\n",
       "      <td>P00058442</td>\n",
       "      <td>F</td>\n",
       "      <td>51-55</td>\n",
       "      <td>9</td>\n",
       "      <td>A</td>\n",
       "      <td>1</td>\n",
       "      <td>0</td>\n",
       "      <td>5</td>\n",
       "      <td>14.0</td>\n",
       "      <td>NaN</td>\n",
       "      <td>8851</td>\n",
       "    </tr>\n",
       "    <tr>\n",
       "      <th>18</th>\n",
       "      <td>1000007</td>\n",
       "      <td>P00036842</td>\n",
       "      <td>M</td>\n",
       "      <td>36-45</td>\n",
       "      <td>1</td>\n",
       "      <td>B</td>\n",
       "      <td>1</td>\n",
       "      <td>1</td>\n",
       "      <td>1</td>\n",
       "      <td>14.0</td>\n",
       "      <td>16.0</td>\n",
       "      <td>11788</td>\n",
       "    </tr>\n",
       "    <tr>\n",
       "      <th>19</th>\n",
       "      <td>1000008</td>\n",
       "      <td>P00249542</td>\n",
       "      <td>M</td>\n",
       "      <td>26-35</td>\n",
       "      <td>12</td>\n",
       "      <td>C</td>\n",
       "      <td>4+</td>\n",
       "      <td>1</td>\n",
       "      <td>1</td>\n",
       "      <td>5.0</td>\n",
       "      <td>15.0</td>\n",
       "      <td>19614</td>\n",
       "    </tr>\n",
       "    <tr>\n",
       "      <th>20</th>\n",
       "      <td>1000008</td>\n",
       "      <td>P00220442</td>\n",
       "      <td>M</td>\n",
       "      <td>26-35</td>\n",
       "      <td>12</td>\n",
       "      <td>C</td>\n",
       "      <td>4+</td>\n",
       "      <td>1</td>\n",
       "      <td>5</td>\n",
       "      <td>14.0</td>\n",
       "      <td>NaN</td>\n",
       "      <td>8584</td>\n",
       "    </tr>\n",
       "    <tr>\n",
       "      <th>21</th>\n",
       "      <td>1000008</td>\n",
       "      <td>P00156442</td>\n",
       "      <td>M</td>\n",
       "      <td>26-35</td>\n",
       "      <td>12</td>\n",
       "      <td>C</td>\n",
       "      <td>4+</td>\n",
       "      <td>1</td>\n",
       "      <td>8</td>\n",
       "      <td>NaN</td>\n",
       "      <td>NaN</td>\n",
       "      <td>9872</td>\n",
       "    </tr>\n",
       "    <tr>\n",
       "      <th>22</th>\n",
       "      <td>1000008</td>\n",
       "      <td>P00213742</td>\n",
       "      <td>M</td>\n",
       "      <td>26-35</td>\n",
       "      <td>12</td>\n",
       "      <td>C</td>\n",
       "      <td>4+</td>\n",
       "      <td>1</td>\n",
       "      <td>8</td>\n",
       "      <td>NaN</td>\n",
       "      <td>NaN</td>\n",
       "      <td>9743</td>\n",
       "    </tr>\n",
       "    <tr>\n",
       "      <th>23</th>\n",
       "      <td>1000008</td>\n",
       "      <td>P00214442</td>\n",
       "      <td>M</td>\n",
       "      <td>26-35</td>\n",
       "      <td>12</td>\n",
       "      <td>C</td>\n",
       "      <td>4+</td>\n",
       "      <td>1</td>\n",
       "      <td>8</td>\n",
       "      <td>NaN</td>\n",
       "      <td>NaN</td>\n",
       "      <td>5982</td>\n",
       "    </tr>\n",
       "    <tr>\n",
       "      <th>24</th>\n",
       "      <td>1000008</td>\n",
       "      <td>P00303442</td>\n",
       "      <td>M</td>\n",
       "      <td>26-35</td>\n",
       "      <td>12</td>\n",
       "      <td>C</td>\n",
       "      <td>4+</td>\n",
       "      <td>1</td>\n",
       "      <td>1</td>\n",
       "      <td>8.0</td>\n",
       "      <td>14.0</td>\n",
       "      <td>11927</td>\n",
       "    </tr>\n",
       "    <tr>\n",
       "      <th>25</th>\n",
       "      <td>1000009</td>\n",
       "      <td>P00135742</td>\n",
       "      <td>M</td>\n",
       "      <td>26-35</td>\n",
       "      <td>17</td>\n",
       "      <td>C</td>\n",
       "      <td>0</td>\n",
       "      <td>0</td>\n",
       "      <td>6</td>\n",
       "      <td>8.0</td>\n",
       "      <td>NaN</td>\n",
       "      <td>16662</td>\n",
       "    </tr>\n",
       "    <tr>\n",
       "      <th>26</th>\n",
       "      <td>1000009</td>\n",
       "      <td>P00039942</td>\n",
       "      <td>M</td>\n",
       "      <td>26-35</td>\n",
       "      <td>17</td>\n",
       "      <td>C</td>\n",
       "      <td>0</td>\n",
       "      <td>0</td>\n",
       "      <td>8</td>\n",
       "      <td>NaN</td>\n",
       "      <td>NaN</td>\n",
       "      <td>5887</td>\n",
       "    </tr>\n",
       "    <tr>\n",
       "      <th>27</th>\n",
       "      <td>1000009</td>\n",
       "      <td>P00161442</td>\n",
       "      <td>M</td>\n",
       "      <td>26-35</td>\n",
       "      <td>17</td>\n",
       "      <td>C</td>\n",
       "      <td>0</td>\n",
       "      <td>0</td>\n",
       "      <td>5</td>\n",
       "      <td>14.0</td>\n",
       "      <td>NaN</td>\n",
       "      <td>6973</td>\n",
       "    </tr>\n",
       "    <tr>\n",
       "      <th>28</th>\n",
       "      <td>1000009</td>\n",
       "      <td>P00078742</td>\n",
       "      <td>M</td>\n",
       "      <td>26-35</td>\n",
       "      <td>17</td>\n",
       "      <td>C</td>\n",
       "      <td>0</td>\n",
       "      <td>0</td>\n",
       "      <td>5</td>\n",
       "      <td>8.0</td>\n",
       "      <td>14.0</td>\n",
       "      <td>5391</td>\n",
       "    </tr>\n",
       "    <tr>\n",
       "      <th>29</th>\n",
       "      <td>1000010</td>\n",
       "      <td>P00085942</td>\n",
       "      <td>F</td>\n",
       "      <td>36-45</td>\n",
       "      <td>1</td>\n",
       "      <td>B</td>\n",
       "      <td>4+</td>\n",
       "      <td>1</td>\n",
       "      <td>2</td>\n",
       "      <td>4.0</td>\n",
       "      <td>8.0</td>\n",
       "      <td>16352</td>\n",
       "    </tr>\n",
       "    <tr>\n",
       "      <th>...</th>\n",
       "      <td>...</td>\n",
       "      <td>...</td>\n",
       "      <td>...</td>\n",
       "      <td>...</td>\n",
       "      <td>...</td>\n",
       "      <td>...</td>\n",
       "      <td>...</td>\n",
       "      <td>...</td>\n",
       "      <td>...</td>\n",
       "      <td>...</td>\n",
       "      <td>...</td>\n",
       "      <td>...</td>\n",
       "    </tr>\n",
       "    <tr>\n",
       "      <th>537547</th>\n",
       "      <td>1004733</td>\n",
       "      <td>P00244042</td>\n",
       "      <td>M</td>\n",
       "      <td>18-25</td>\n",
       "      <td>18</td>\n",
       "      <td>C</td>\n",
       "      <td>1</td>\n",
       "      <td>0</td>\n",
       "      <td>1</td>\n",
       "      <td>2.0</td>\n",
       "      <td>15.0</td>\n",
       "      <td>11543</td>\n",
       "    </tr>\n",
       "    <tr>\n",
       "      <th>537548</th>\n",
       "      <td>1004734</td>\n",
       "      <td>P00111042</td>\n",
       "      <td>M</td>\n",
       "      <td>51-55</td>\n",
       "      <td>1</td>\n",
       "      <td>B</td>\n",
       "      <td>1</td>\n",
       "      <td>1</td>\n",
       "      <td>15</td>\n",
       "      <td>NaN</td>\n",
       "      <td>NaN</td>\n",
       "      <td>20924</td>\n",
       "    </tr>\n",
       "    <tr>\n",
       "      <th>537549</th>\n",
       "      <td>1004734</td>\n",
       "      <td>P00345842</td>\n",
       "      <td>M</td>\n",
       "      <td>51-55</td>\n",
       "      <td>1</td>\n",
       "      <td>B</td>\n",
       "      <td>1</td>\n",
       "      <td>1</td>\n",
       "      <td>2</td>\n",
       "      <td>8.0</td>\n",
       "      <td>14.0</td>\n",
       "      <td>13082</td>\n",
       "    </tr>\n",
       "    <tr>\n",
       "      <th>537550</th>\n",
       "      <td>1004735</td>\n",
       "      <td>P00278242</td>\n",
       "      <td>M</td>\n",
       "      <td>46-50</td>\n",
       "      <td>3</td>\n",
       "      <td>C</td>\n",
       "      <td>3</td>\n",
       "      <td>0</td>\n",
       "      <td>1</td>\n",
       "      <td>NaN</td>\n",
       "      <td>NaN</td>\n",
       "      <td>11658</td>\n",
       "    </tr>\n",
       "    <tr>\n",
       "      <th>537551</th>\n",
       "      <td>1004735</td>\n",
       "      <td>P00313442</td>\n",
       "      <td>M</td>\n",
       "      <td>46-50</td>\n",
       "      <td>3</td>\n",
       "      <td>C</td>\n",
       "      <td>3</td>\n",
       "      <td>0</td>\n",
       "      <td>5</td>\n",
       "      <td>6.0</td>\n",
       "      <td>8.0</td>\n",
       "      <td>6863</td>\n",
       "    </tr>\n",
       "    <tr>\n",
       "      <th>537552</th>\n",
       "      <td>1004735</td>\n",
       "      <td>P0098642</td>\n",
       "      <td>M</td>\n",
       "      <td>46-50</td>\n",
       "      <td>3</td>\n",
       "      <td>C</td>\n",
       "      <td>3</td>\n",
       "      <td>0</td>\n",
       "      <td>6</td>\n",
       "      <td>8.0</td>\n",
       "      <td>NaN</td>\n",
       "      <td>16415</td>\n",
       "    </tr>\n",
       "    <tr>\n",
       "      <th>537553</th>\n",
       "      <td>1004735</td>\n",
       "      <td>P00119342</td>\n",
       "      <td>M</td>\n",
       "      <td>46-50</td>\n",
       "      <td>3</td>\n",
       "      <td>C</td>\n",
       "      <td>3</td>\n",
       "      <td>0</td>\n",
       "      <td>10</td>\n",
       "      <td>13.0</td>\n",
       "      <td>NaN</td>\n",
       "      <td>18526</td>\n",
       "    </tr>\n",
       "    <tr>\n",
       "      <th>537554</th>\n",
       "      <td>1004735</td>\n",
       "      <td>P00114042</td>\n",
       "      <td>M</td>\n",
       "      <td>46-50</td>\n",
       "      <td>3</td>\n",
       "      <td>C</td>\n",
       "      <td>3</td>\n",
       "      <td>0</td>\n",
       "      <td>5</td>\n",
       "      <td>14.0</td>\n",
       "      <td>NaN</td>\n",
       "      <td>7099</td>\n",
       "    </tr>\n",
       "    <tr>\n",
       "      <th>537555</th>\n",
       "      <td>1004735</td>\n",
       "      <td>P00135142</td>\n",
       "      <td>M</td>\n",
       "      <td>46-50</td>\n",
       "      <td>3</td>\n",
       "      <td>C</td>\n",
       "      <td>3</td>\n",
       "      <td>0</td>\n",
       "      <td>13</td>\n",
       "      <td>16.0</td>\n",
       "      <td>NaN</td>\n",
       "      <td>578</td>\n",
       "    </tr>\n",
       "    <tr>\n",
       "      <th>537556</th>\n",
       "      <td>1004736</td>\n",
       "      <td>P00194542</td>\n",
       "      <td>M</td>\n",
       "      <td>18-25</td>\n",
       "      <td>20</td>\n",
       "      <td>A</td>\n",
       "      <td>1</td>\n",
       "      <td>1</td>\n",
       "      <td>8</td>\n",
       "      <td>14.0</td>\n",
       "      <td>NaN</td>\n",
       "      <td>2183</td>\n",
       "    </tr>\n",
       "    <tr>\n",
       "      <th>537557</th>\n",
       "      <td>1004736</td>\n",
       "      <td>P00175242</td>\n",
       "      <td>M</td>\n",
       "      <td>18-25</td>\n",
       "      <td>20</td>\n",
       "      <td>A</td>\n",
       "      <td>1</td>\n",
       "      <td>1</td>\n",
       "      <td>2</td>\n",
       "      <td>NaN</td>\n",
       "      <td>NaN</td>\n",
       "      <td>12724</td>\n",
       "    </tr>\n",
       "    <tr>\n",
       "      <th>537558</th>\n",
       "      <td>1004736</td>\n",
       "      <td>P00101942</td>\n",
       "      <td>M</td>\n",
       "      <td>18-25</td>\n",
       "      <td>20</td>\n",
       "      <td>A</td>\n",
       "      <td>1</td>\n",
       "      <td>1</td>\n",
       "      <td>8</td>\n",
       "      <td>17.0</td>\n",
       "      <td>NaN</td>\n",
       "      <td>7796</td>\n",
       "    </tr>\n",
       "    <tr>\n",
       "      <th>537559</th>\n",
       "      <td>1004736</td>\n",
       "      <td>P00109142</td>\n",
       "      <td>M</td>\n",
       "      <td>18-25</td>\n",
       "      <td>20</td>\n",
       "      <td>A</td>\n",
       "      <td>1</td>\n",
       "      <td>1</td>\n",
       "      <td>8</td>\n",
       "      <td>17.0</td>\n",
       "      <td>NaN</td>\n",
       "      <td>7770</td>\n",
       "    </tr>\n",
       "    <tr>\n",
       "      <th>537560</th>\n",
       "      <td>1004736</td>\n",
       "      <td>P00084842</td>\n",
       "      <td>M</td>\n",
       "      <td>18-25</td>\n",
       "      <td>20</td>\n",
       "      <td>A</td>\n",
       "      <td>1</td>\n",
       "      <td>1</td>\n",
       "      <td>8</td>\n",
       "      <td>16.0</td>\n",
       "      <td>NaN</td>\n",
       "      <td>5940</td>\n",
       "    </tr>\n",
       "    <tr>\n",
       "      <th>537561</th>\n",
       "      <td>1004736</td>\n",
       "      <td>P00078142</td>\n",
       "      <td>M</td>\n",
       "      <td>18-25</td>\n",
       "      <td>20</td>\n",
       "      <td>A</td>\n",
       "      <td>1</td>\n",
       "      <td>1</td>\n",
       "      <td>8</td>\n",
       "      <td>16.0</td>\n",
       "      <td>NaN</td>\n",
       "      <td>7834</td>\n",
       "    </tr>\n",
       "    <tr>\n",
       "      <th>537562</th>\n",
       "      <td>1004736</td>\n",
       "      <td>P00146742</td>\n",
       "      <td>M</td>\n",
       "      <td>18-25</td>\n",
       "      <td>20</td>\n",
       "      <td>A</td>\n",
       "      <td>1</td>\n",
       "      <td>1</td>\n",
       "      <td>1</td>\n",
       "      <td>13.0</td>\n",
       "      <td>14.0</td>\n",
       "      <td>11508</td>\n",
       "    </tr>\n",
       "    <tr>\n",
       "      <th>537563</th>\n",
       "      <td>1004736</td>\n",
       "      <td>P00154642</td>\n",
       "      <td>M</td>\n",
       "      <td>18-25</td>\n",
       "      <td>20</td>\n",
       "      <td>A</td>\n",
       "      <td>1</td>\n",
       "      <td>1</td>\n",
       "      <td>8</td>\n",
       "      <td>NaN</td>\n",
       "      <td>NaN</td>\n",
       "      <td>6074</td>\n",
       "    </tr>\n",
       "    <tr>\n",
       "      <th>537564</th>\n",
       "      <td>1004736</td>\n",
       "      <td>P00117442</td>\n",
       "      <td>M</td>\n",
       "      <td>18-25</td>\n",
       "      <td>20</td>\n",
       "      <td>A</td>\n",
       "      <td>1</td>\n",
       "      <td>1</td>\n",
       "      <td>5</td>\n",
       "      <td>14.0</td>\n",
       "      <td>NaN</td>\n",
       "      <td>7084</td>\n",
       "    </tr>\n",
       "    <tr>\n",
       "      <th>537565</th>\n",
       "      <td>1004736</td>\n",
       "      <td>P00051142</td>\n",
       "      <td>M</td>\n",
       "      <td>18-25</td>\n",
       "      <td>20</td>\n",
       "      <td>A</td>\n",
       "      <td>1</td>\n",
       "      <td>1</td>\n",
       "      <td>8</td>\n",
       "      <td>NaN</td>\n",
       "      <td>NaN</td>\n",
       "      <td>7934</td>\n",
       "    </tr>\n",
       "    <tr>\n",
       "      <th>537566</th>\n",
       "      <td>1004736</td>\n",
       "      <td>P00048742</td>\n",
       "      <td>M</td>\n",
       "      <td>18-25</td>\n",
       "      <td>20</td>\n",
       "      <td>A</td>\n",
       "      <td>1</td>\n",
       "      <td>1</td>\n",
       "      <td>5</td>\n",
       "      <td>NaN</td>\n",
       "      <td>NaN</td>\n",
       "      <td>5350</td>\n",
       "    </tr>\n",
       "    <tr>\n",
       "      <th>537567</th>\n",
       "      <td>1004736</td>\n",
       "      <td>P00157542</td>\n",
       "      <td>M</td>\n",
       "      <td>18-25</td>\n",
       "      <td>20</td>\n",
       "      <td>A</td>\n",
       "      <td>1</td>\n",
       "      <td>1</td>\n",
       "      <td>8</td>\n",
       "      <td>14.0</td>\n",
       "      <td>NaN</td>\n",
       "      <td>1994</td>\n",
       "    </tr>\n",
       "    <tr>\n",
       "      <th>537568</th>\n",
       "      <td>1004736</td>\n",
       "      <td>P00250642</td>\n",
       "      <td>M</td>\n",
       "      <td>18-25</td>\n",
       "      <td>20</td>\n",
       "      <td>A</td>\n",
       "      <td>1</td>\n",
       "      <td>1</td>\n",
       "      <td>11</td>\n",
       "      <td>NaN</td>\n",
       "      <td>NaN</td>\n",
       "      <td>5930</td>\n",
       "    </tr>\n",
       "    <tr>\n",
       "      <th>537569</th>\n",
       "      <td>1004736</td>\n",
       "      <td>P00023142</td>\n",
       "      <td>M</td>\n",
       "      <td>18-25</td>\n",
       "      <td>20</td>\n",
       "      <td>A</td>\n",
       "      <td>1</td>\n",
       "      <td>1</td>\n",
       "      <td>5</td>\n",
       "      <td>14.0</td>\n",
       "      <td>NaN</td>\n",
       "      <td>7042</td>\n",
       "    </tr>\n",
       "    <tr>\n",
       "      <th>537570</th>\n",
       "      <td>1004736</td>\n",
       "      <td>P00162442</td>\n",
       "      <td>M</td>\n",
       "      <td>18-25</td>\n",
       "      <td>20</td>\n",
       "      <td>A</td>\n",
       "      <td>1</td>\n",
       "      <td>1</td>\n",
       "      <td>1</td>\n",
       "      <td>16.0</td>\n",
       "      <td>NaN</td>\n",
       "      <td>15491</td>\n",
       "    </tr>\n",
       "    <tr>\n",
       "      <th>537571</th>\n",
       "      <td>1004737</td>\n",
       "      <td>P00221442</td>\n",
       "      <td>M</td>\n",
       "      <td>36-45</td>\n",
       "      <td>16</td>\n",
       "      <td>C</td>\n",
       "      <td>1</td>\n",
       "      <td>0</td>\n",
       "      <td>1</td>\n",
       "      <td>2.0</td>\n",
       "      <td>5.0</td>\n",
       "      <td>11852</td>\n",
       "    </tr>\n",
       "    <tr>\n",
       "      <th>537572</th>\n",
       "      <td>1004737</td>\n",
       "      <td>P00193542</td>\n",
       "      <td>M</td>\n",
       "      <td>36-45</td>\n",
       "      <td>16</td>\n",
       "      <td>C</td>\n",
       "      <td>1</td>\n",
       "      <td>0</td>\n",
       "      <td>1</td>\n",
       "      <td>2.0</td>\n",
       "      <td>NaN</td>\n",
       "      <td>11664</td>\n",
       "    </tr>\n",
       "    <tr>\n",
       "      <th>537573</th>\n",
       "      <td>1004737</td>\n",
       "      <td>P00111142</td>\n",
       "      <td>M</td>\n",
       "      <td>36-45</td>\n",
       "      <td>16</td>\n",
       "      <td>C</td>\n",
       "      <td>1</td>\n",
       "      <td>0</td>\n",
       "      <td>1</td>\n",
       "      <td>15.0</td>\n",
       "      <td>16.0</td>\n",
       "      <td>19196</td>\n",
       "    </tr>\n",
       "    <tr>\n",
       "      <th>537574</th>\n",
       "      <td>1004737</td>\n",
       "      <td>P00345942</td>\n",
       "      <td>M</td>\n",
       "      <td>36-45</td>\n",
       "      <td>16</td>\n",
       "      <td>C</td>\n",
       "      <td>1</td>\n",
       "      <td>0</td>\n",
       "      <td>8</td>\n",
       "      <td>15.0</td>\n",
       "      <td>NaN</td>\n",
       "      <td>8043</td>\n",
       "    </tr>\n",
       "    <tr>\n",
       "      <th>537575</th>\n",
       "      <td>1004737</td>\n",
       "      <td>P00285842</td>\n",
       "      <td>M</td>\n",
       "      <td>36-45</td>\n",
       "      <td>16</td>\n",
       "      <td>C</td>\n",
       "      <td>1</td>\n",
       "      <td>0</td>\n",
       "      <td>5</td>\n",
       "      <td>NaN</td>\n",
       "      <td>NaN</td>\n",
       "      <td>7172</td>\n",
       "    </tr>\n",
       "    <tr>\n",
       "      <th>537576</th>\n",
       "      <td>1004737</td>\n",
       "      <td>P00118242</td>\n",
       "      <td>M</td>\n",
       "      <td>36-45</td>\n",
       "      <td>16</td>\n",
       "      <td>C</td>\n",
       "      <td>1</td>\n",
       "      <td>0</td>\n",
       "      <td>5</td>\n",
       "      <td>8.0</td>\n",
       "      <td>NaN</td>\n",
       "      <td>6875</td>\n",
       "    </tr>\n",
       "  </tbody>\n",
       "</table>\n",
       "<p>537577 rows × 12 columns</p>\n",
       "</div>"
      ],
      "text/plain": [
       "        User_ID Product_ID Gender    Age  Occupation City_Category  \\\n",
       "0       1000001  P00069042      F   0-17          10             A   \n",
       "1       1000001  P00248942      F   0-17          10             A   \n",
       "2       1000001  P00087842      F   0-17          10             A   \n",
       "3       1000001  P00085442      F   0-17          10             A   \n",
       "4       1000002  P00285442      M    55+          16             C   \n",
       "5       1000003  P00193542      M  26-35          15             A   \n",
       "6       1000004  P00184942      M  46-50           7             B   \n",
       "7       1000004  P00346142      M  46-50           7             B   \n",
       "8       1000004   P0097242      M  46-50           7             B   \n",
       "9       1000005  P00274942      M  26-35          20             A   \n",
       "10      1000005  P00251242      M  26-35          20             A   \n",
       "11      1000005  P00014542      M  26-35          20             A   \n",
       "12      1000005  P00031342      M  26-35          20             A   \n",
       "13      1000005  P00145042      M  26-35          20             A   \n",
       "14      1000006  P00231342      F  51-55           9             A   \n",
       "15      1000006  P00190242      F  51-55           9             A   \n",
       "16      1000006   P0096642      F  51-55           9             A   \n",
       "17      1000006  P00058442      F  51-55           9             A   \n",
       "18      1000007  P00036842      M  36-45           1             B   \n",
       "19      1000008  P00249542      M  26-35          12             C   \n",
       "20      1000008  P00220442      M  26-35          12             C   \n",
       "21      1000008  P00156442      M  26-35          12             C   \n",
       "22      1000008  P00213742      M  26-35          12             C   \n",
       "23      1000008  P00214442      M  26-35          12             C   \n",
       "24      1000008  P00303442      M  26-35          12             C   \n",
       "25      1000009  P00135742      M  26-35          17             C   \n",
       "26      1000009  P00039942      M  26-35          17             C   \n",
       "27      1000009  P00161442      M  26-35          17             C   \n",
       "28      1000009  P00078742      M  26-35          17             C   \n",
       "29      1000010  P00085942      F  36-45           1             B   \n",
       "...         ...        ...    ...    ...         ...           ...   \n",
       "537547  1004733  P00244042      M  18-25          18             C   \n",
       "537548  1004734  P00111042      M  51-55           1             B   \n",
       "537549  1004734  P00345842      M  51-55           1             B   \n",
       "537550  1004735  P00278242      M  46-50           3             C   \n",
       "537551  1004735  P00313442      M  46-50           3             C   \n",
       "537552  1004735   P0098642      M  46-50           3             C   \n",
       "537553  1004735  P00119342      M  46-50           3             C   \n",
       "537554  1004735  P00114042      M  46-50           3             C   \n",
       "537555  1004735  P00135142      M  46-50           3             C   \n",
       "537556  1004736  P00194542      M  18-25          20             A   \n",
       "537557  1004736  P00175242      M  18-25          20             A   \n",
       "537558  1004736  P00101942      M  18-25          20             A   \n",
       "537559  1004736  P00109142      M  18-25          20             A   \n",
       "537560  1004736  P00084842      M  18-25          20             A   \n",
       "537561  1004736  P00078142      M  18-25          20             A   \n",
       "537562  1004736  P00146742      M  18-25          20             A   \n",
       "537563  1004736  P00154642      M  18-25          20             A   \n",
       "537564  1004736  P00117442      M  18-25          20             A   \n",
       "537565  1004736  P00051142      M  18-25          20             A   \n",
       "537566  1004736  P00048742      M  18-25          20             A   \n",
       "537567  1004736  P00157542      M  18-25          20             A   \n",
       "537568  1004736  P00250642      M  18-25          20             A   \n",
       "537569  1004736  P00023142      M  18-25          20             A   \n",
       "537570  1004736  P00162442      M  18-25          20             A   \n",
       "537571  1004737  P00221442      M  36-45          16             C   \n",
       "537572  1004737  P00193542      M  36-45          16             C   \n",
       "537573  1004737  P00111142      M  36-45          16             C   \n",
       "537574  1004737  P00345942      M  36-45          16             C   \n",
       "537575  1004737  P00285842      M  36-45          16             C   \n",
       "537576  1004737  P00118242      M  36-45          16             C   \n",
       "\n",
       "       Stay_In_Current_City_Years  Marital_Status  Product_Category_1  \\\n",
       "0                               2               0                   3   \n",
       "1                               2               0                   1   \n",
       "2                               2               0                  12   \n",
       "3                               2               0                  12   \n",
       "4                              4+               0                   8   \n",
       "5                               3               0                   1   \n",
       "6                               2               1                   1   \n",
       "7                               2               1                   1   \n",
       "8                               2               1                   1   \n",
       "9                               1               1                   8   \n",
       "10                              1               1                   5   \n",
       "11                              1               1                   8   \n",
       "12                              1               1                   8   \n",
       "13                              1               1                   1   \n",
       "14                              1               0                   5   \n",
       "15                              1               0                   4   \n",
       "16                              1               0                   2   \n",
       "17                              1               0                   5   \n",
       "18                              1               1                   1   \n",
       "19                             4+               1                   1   \n",
       "20                             4+               1                   5   \n",
       "21                             4+               1                   8   \n",
       "22                             4+               1                   8   \n",
       "23                             4+               1                   8   \n",
       "24                             4+               1                   1   \n",
       "25                              0               0                   6   \n",
       "26                              0               0                   8   \n",
       "27                              0               0                   5   \n",
       "28                              0               0                   5   \n",
       "29                             4+               1                   2   \n",
       "...                           ...             ...                 ...   \n",
       "537547                          1               0                   1   \n",
       "537548                          1               1                  15   \n",
       "537549                          1               1                   2   \n",
       "537550                          3               0                   1   \n",
       "537551                          3               0                   5   \n",
       "537552                          3               0                   6   \n",
       "537553                          3               0                  10   \n",
       "537554                          3               0                   5   \n",
       "537555                          3               0                  13   \n",
       "537556                          1               1                   8   \n",
       "537557                          1               1                   2   \n",
       "537558                          1               1                   8   \n",
       "537559                          1               1                   8   \n",
       "537560                          1               1                   8   \n",
       "537561                          1               1                   8   \n",
       "537562                          1               1                   1   \n",
       "537563                          1               1                   8   \n",
       "537564                          1               1                   5   \n",
       "537565                          1               1                   8   \n",
       "537566                          1               1                   5   \n",
       "537567                          1               1                   8   \n",
       "537568                          1               1                  11   \n",
       "537569                          1               1                   5   \n",
       "537570                          1               1                   1   \n",
       "537571                          1               0                   1   \n",
       "537572                          1               0                   1   \n",
       "537573                          1               0                   1   \n",
       "537574                          1               0                   8   \n",
       "537575                          1               0                   5   \n",
       "537576                          1               0                   5   \n",
       "\n",
       "        Product_Category_2  Product_Category_3  Purchase  \n",
       "0                      NaN                 NaN      8370  \n",
       "1                      6.0                14.0     15200  \n",
       "2                      NaN                 NaN      1422  \n",
       "3                     14.0                 NaN      1057  \n",
       "4                      NaN                 NaN      7969  \n",
       "5                      2.0                 NaN     15227  \n",
       "6                      8.0                17.0     19215  \n",
       "7                     15.0                 NaN     15854  \n",
       "8                     16.0                 NaN     15686  \n",
       "9                      NaN                 NaN      7871  \n",
       "10                    11.0                 NaN      5254  \n",
       "11                     NaN                 NaN      3957  \n",
       "12                     NaN                 NaN      6073  \n",
       "13                     2.0                 5.0     15665  \n",
       "14                     8.0                14.0      5378  \n",
       "15                     5.0                 NaN      2079  \n",
       "16                     3.0                 4.0     13055  \n",
       "17                    14.0                 NaN      8851  \n",
       "18                    14.0                16.0     11788  \n",
       "19                     5.0                15.0     19614  \n",
       "20                    14.0                 NaN      8584  \n",
       "21                     NaN                 NaN      9872  \n",
       "22                     NaN                 NaN      9743  \n",
       "23                     NaN                 NaN      5982  \n",
       "24                     8.0                14.0     11927  \n",
       "25                     8.0                 NaN     16662  \n",
       "26                     NaN                 NaN      5887  \n",
       "27                    14.0                 NaN      6973  \n",
       "28                     8.0                14.0      5391  \n",
       "29                     4.0                 8.0     16352  \n",
       "...                    ...                 ...       ...  \n",
       "537547                 2.0                15.0     11543  \n",
       "537548                 NaN                 NaN     20924  \n",
       "537549                 8.0                14.0     13082  \n",
       "537550                 NaN                 NaN     11658  \n",
       "537551                 6.0                 8.0      6863  \n",
       "537552                 8.0                 NaN     16415  \n",
       "537553                13.0                 NaN     18526  \n",
       "537554                14.0                 NaN      7099  \n",
       "537555                16.0                 NaN       578  \n",
       "537556                14.0                 NaN      2183  \n",
       "537557                 NaN                 NaN     12724  \n",
       "537558                17.0                 NaN      7796  \n",
       "537559                17.0                 NaN      7770  \n",
       "537560                16.0                 NaN      5940  \n",
       "537561                16.0                 NaN      7834  \n",
       "537562                13.0                14.0     11508  \n",
       "537563                 NaN                 NaN      6074  \n",
       "537564                14.0                 NaN      7084  \n",
       "537565                 NaN                 NaN      7934  \n",
       "537566                 NaN                 NaN      5350  \n",
       "537567                14.0                 NaN      1994  \n",
       "537568                 NaN                 NaN      5930  \n",
       "537569                14.0                 NaN      7042  \n",
       "537570                16.0                 NaN     15491  \n",
       "537571                 2.0                 5.0     11852  \n",
       "537572                 2.0                 NaN     11664  \n",
       "537573                15.0                16.0     19196  \n",
       "537574                15.0                 NaN      8043  \n",
       "537575                 NaN                 NaN      7172  \n",
       "537576                 8.0                 NaN      6875  \n",
       "\n",
       "[537577 rows x 12 columns]"
      ]
     },
     "execution_count": 4,
     "metadata": {},
     "output_type": "execute_result"
    }
   ],
   "source": [
    "open_file = '/Users/yoonee/Downloads/BlackFriday.xlsx'\n",
    "file = pd.read_excel(open_file)\n",
    "pd.DataFrame(file)"
   ]
  },
  {
   "cell_type": "code",
   "execution_count": 5,
   "metadata": {},
   "outputs": [
    {
     "name": "stdout",
     "output_type": "stream",
     "text": [
      "[1000001 1000002 1000003 ... 1004113 1005391 1001529]\n",
      "5891\n"
     ]
    }
   ],
   "source": [
    "user_id = file[\"User_ID\"].unique()\n",
    "print(user_id)\n",
    "print(len(user_id))\n",
    "    "
   ]
  },
  {
   "cell_type": "markdown",
   "metadata": {},
   "source": [
    "# Unique Features"
   ]
  },
  {
   "cell_type": "code",
   "execution_count": 6,
   "metadata": {},
   "outputs": [
    {
     "name": "stdout",
     "output_type": "stream",
     "text": [
      "User_ID                        5891\n",
      "Product_ID                     3623\n",
      "Gender                            2\n",
      "Age                               7\n",
      "Occupation                       21\n",
      "City_Category                     3\n",
      "Stay_In_Current_City_Years        5\n",
      "Marital_Status                    2\n",
      "Product_Category_1               18\n",
      "Product_Category_2               17\n",
      "Product_Category_3               15\n",
      "Purchase                      17959\n",
      "dtype: int64\n",
      "Number of Rows and Columns in Data Set: (537577, 12)\n"
     ]
    }
   ],
   "source": [
    "unique_features = file.apply(lambda x:x.nunique())\n",
    "print(unique_features)\n",
    "print('Number of Rows and Columns in Data Set:', file.shape)"
   ]
  },
  {
   "cell_type": "code",
   "execution_count": 7,
   "metadata": {},
   "outputs": [
    {
     "name": "stdout",
     "output_type": "stream",
     "text": [
      "Highest and lowest purchase: 23961 , 185\n"
     ]
    }
   ],
   "source": [
    "print('Highest and lowest purchase:',file['Purchase'].max(),',',file['Purchase'].min())"
   ]
  },
  {
   "cell_type": "markdown",
   "metadata": {},
   "source": [
    "Among the given features inside the table chart, unique values of <code>Product Category 1,2,and 3</code> seem to imply different types of products of one category. "
   ]
  },
  {
   "cell_type": "markdown",
   "metadata": {},
   "source": [
    "Some of the values were missing on <code> Product Category 2,3</code>. By counting the missing values,"
   ]
  },
  {
   "cell_type": "code",
   "execution_count": 8,
   "metadata": {},
   "outputs": [
    {
     "data": {
      "text/html": [
       "<div>\n",
       "<style scoped>\n",
       "    .dataframe tbody tr th:only-of-type {\n",
       "        vertical-align: middle;\n",
       "    }\n",
       "\n",
       "    .dataframe tbody tr th {\n",
       "        vertical-align: top;\n",
       "    }\n",
       "\n",
       "    .dataframe thead th {\n",
       "        text-align: right;\n",
       "    }\n",
       "</style>\n",
       "<table border=\"1\" class=\"dataframe\">\n",
       "  <thead>\n",
       "    <tr style=\"text-align: right;\">\n",
       "      <th></th>\n",
       "      <th>Total missing</th>\n",
       "      <th>% missing</th>\n",
       "    </tr>\n",
       "  </thead>\n",
       "  <tbody>\n",
       "    <tr>\n",
       "      <th>Product_Category_3</th>\n",
       "      <td>373299</td>\n",
       "      <td>69.441029</td>\n",
       "    </tr>\n",
       "    <tr>\n",
       "      <th>Product_Category_2</th>\n",
       "      <td>166986</td>\n",
       "      <td>31.062713</td>\n",
       "    </tr>\n",
       "  </tbody>\n",
       "</table>\n",
       "</div>"
      ],
      "text/plain": [
       "                    Total missing  % missing\n",
       "Product_Category_3         373299  69.441029\n",
       "Product_Category_2         166986  31.062713"
      ]
     },
     "execution_count": 8,
     "metadata": {},
     "output_type": "execute_result"
    }
   ],
   "source": [
    "total_miss = file.isnull().sum()\n",
    "perc_miss = total_miss/file.isnull().count()*100\n",
    "\n",
    "missing_data = pd.DataFrame({'Total missing':total_miss,\n",
    "                            '% missing':perc_miss})\n",
    "\n",
    "missing_data.sort_values(by='Total missing',\n",
    "                         ascending = False).head(2)"
   ]
  },
  {
   "cell_type": "markdown",
   "metadata": {},
   "source": [
    "<code> Age</code> and <code>Years of residence </code> were broken into different groups; "
   ]
  },
  {
   "cell_type": "code",
   "execution_count": 9,
   "metadata": {},
   "outputs": [
    {
     "name": "stdout",
     "output_type": "stream",
     "text": [
      "Years of residence: [2 '4+' 3 1 0]\n",
      "Age Groups: ['0-17' '55+' '26-35' '46-50' '51-55' '36-45' '18-25']\n"
     ]
    }
   ],
   "source": [
    "print('Years of residence:',file['Stay_In_Current_City_Years'].unique())\n",
    "print('Age Groups:',file['Age'].unique())"
   ]
  },
  {
   "cell_type": "markdown",
   "metadata": {},
   "source": [
    "# Spending Analysis"
   ]
  },
  {
   "cell_type": "markdown",
   "metadata": {},
   "source": [
    "The numbers in <code>Total Purchase</code> did not show in decimals. I will just divide each number into hundred to estimate how much each customer spent on their purchase"
   ]
  },
  {
   "cell_type": "code",
   "execution_count": 10,
   "metadata": {},
   "outputs": [
    {
     "name": "stdout",
     "output_type": "stream",
     "text": [
      "Total Purchase: 50176683.78\n"
     ]
    }
   ],
   "source": [
    "purchase = file['Purchase'].sum()\n",
    "print('Total Purchase:', purchase/100)"
   ]
  },
  {
   "cell_type": "markdown",
   "metadata": {},
   "source": [
    "The total customers spent on the products on Black Friday was <code>5017668378</code>. \n",
    "By dividing 5017668378 into hundred, it will be <code> $ 50,176,683.78</code>"
   ]
  },
  {
   "cell_type": "markdown",
   "metadata": {},
   "source": [
    "# Number of Shoppers "
   ]
  },
  {
   "cell_type": "code",
   "execution_count": 11,
   "metadata": {},
   "outputs": [
    {
     "name": "stdout",
     "output_type": "stream",
     "text": [
      "Number of Shoppers on Black Friday: 5891\n"
     ]
    }
   ],
   "source": [
    "n_shoppers = file.groupby('User_ID').nunique()\n",
    "print('Number of Shoppers on Black Friday:' ,len(n_shoppers))"
   ]
  },
  {
   "cell_type": "markdown",
   "metadata": {},
   "source": [
    "As I have mentioned earlier, there were 5891 shoppers on Black Friday. I believe that we should look into the demographics to grasp what type of customers spent the most during the holiday.We could further delve into the products the customers purchased, so we could take account of this to target the audience in the future. "
   ]
  },
  {
   "cell_type": "markdown",
   "metadata": {},
   "source": [
    "# Demographics \n",
    "- Gender Population \n",
    "- Gender Total Spending\n",
    "- Gender Average Spending \n"
   ]
  },
  {
   "cell_type": "markdown",
   "metadata": {},
   "source": [
    "# Population by Gender "
   ]
  },
  {
   "cell_type": "code",
   "execution_count": 12,
   "metadata": {
    "scrolled": true
   },
   "outputs": [
    {
     "name": "stdout",
     "output_type": "stream",
     "text": [
      "Total Number of Female Shoppers: 1666\n",
      "Total Number of Male Shoppers: 4225\n"
     ]
    }
   ],
   "source": [
    "female = file[file['Gender']=='F'].groupby('User_ID')['Gender'].nunique()\n",
    "print('Total Number of Female Shoppers:',female.count())\n",
    "male = file[file['Gender']=='M'].groupby('User_ID')['Gender'].unique()\n",
    "print('Total Number of Male Shoppers:',male.count())"
   ]
  },
  {
   "cell_type": "code",
   "execution_count": 13,
   "metadata": {},
   "outputs": [],
   "source": [
    "import matplotlib.pyplot as plt"
   ]
  },
  {
   "cell_type": "code",
   "execution_count": 14,
   "metadata": {},
   "outputs": [
    {
     "data": {
      "image/png": "[encoded data removed]",
      "text/plain": [
       "<Figure size 432x288 with 1 Axes>"
      ]
     },
     "metadata": {},
     "output_type": "display_data"
    }
   ],
   "source": [
    "values = [1666, 4225]\n",
    "gender = ['Female Customers', 'Male Customers']\n",
    "color = ['sandybrown','indianred']\n",
    "plt.pie(values, labels= gender, colors= color, startangle=90, autopct='%.1f%%')\n",
    "plt.show()\n",
    "                       "
   ]
  },
  {
   "cell_type": "markdown",
   "metadata": {},
   "source": [
    "The pie chart displays the number of customers by gender; out of 5891 customers, there were more male customers than female customers on Black Friday."
   ]
  },
  {
   "cell_type": "markdown",
   "metadata": {},
   "source": [
    "# Total Spending and Average Spending "
   ]
  },
  {
   "cell_type": "code",
   "execution_count": 15,
   "metadata": {},
   "outputs": [
    {
     "name": "stdout",
     "output_type": "stream",
     "text": [
      "           Purchase\n",
      "Gender             \n",
      "F       11646240.21\n",
      "M       38530443.57\n"
     ]
    }
   ],
   "source": [
    "gender_total = file.groupby('Gender').agg({'Purchase':np.sum})\n",
    "divide = gender_total/100\n",
    "print(divide)"
   ]
  },
  {
   "cell_type": "code",
   "execution_count": 16,
   "metadata": {},
   "outputs": [
    {
     "data": {
      "image/png": "[encoded data removed]",
      "text/plain": [
       "<Figure size 432x288 with 1 Axes>"
      ]
     },
     "metadata": {},
     "output_type": "display_data"
    }
   ],
   "source": [
    "values = [11646240.21,38530443.57]\n",
    "gender = ('Female', 'Male')\n",
    "y_pos = np.arange(len(gender))\n",
    "plt.title('Total Spending by gender')\n",
    "plt.xlabel('Gender')\n",
    "plt.ylabel('Dollars')\n",
    "\n",
    "plt.bar(y_pos,values,color=['sandybrown','indianred'])\n",
    "plt.xticks(y_pos,gender)\n",
    "plt.show()\n"
   ]
  },
  {
   "cell_type": "code",
   "execution_count": 17,
   "metadata": {},
   "outputs": [
    {
     "name": "stdout",
     "output_type": "stream",
     "text": [
      "         Purchase\n",
      "Gender           \n",
      "F       88.097613\n",
      "M       95.047717\n"
     ]
    }
   ],
   "source": [
    "gender_spent= file.groupby('Gender').agg({'Purchase':np.mean})\n",
    "gender_avg = gender_spent/100\n",
    "print(gender_avg)"
   ]
  },
  {
   "cell_type": "markdown",
   "metadata": {},
   "source": [
    "Despite the fact that the number of male customers were significiantly higher than female customers, their total spending and average spending do not have a big gap between them. It's possible to imply that each female customer has high spending as much as male customer"
   ]
  },
  {
   "cell_type": "code",
   "execution_count": 18,
   "metadata": {},
   "outputs": [
    {
     "data": {
      "image/png": "[encoded data removed]",
      "text/plain": [
       "<Figure size 432x288 with 1 Axes>"
      ]
     },
     "metadata": {},
     "output_type": "display_data"
    }
   ],
   "source": [
    "average_spending = [88.0976,95.0477]\n",
    "by_gender = ['Female','Male']\n",
    "y_axis = np.arange(len(by_gender))\n",
    "plt.title('Average Spending by Gender')\n",
    "plt.xlabel('Gender')\n",
    "plt.ylabel('Dollars')\n",
    "plt.bar(y_axis,average_spending,color=['sandybrown','indianred'])\n",
    "plt.xticks(y_axis,by_gender)\n",
    "plt.show()"
   ]
  },
  {
   "cell_type": "markdown",
   "metadata": {},
   "source": [
    "# Age Groups"
   ]
  },
  {
   "cell_type": "code",
   "execution_count": 19,
   "metadata": {},
   "outputs": [
    {
     "name": "stdout",
     "output_type": "stream",
     "text": [
      "Age 0-17: 218\n",
      "Age 18-25: 1069\n",
      "Age 26-35: 2053\n",
      "Age 36-45: 1167\n",
      "Age 46-50: 531\n",
      "Age 51-55: 481\n",
      "Age 55+: 372\n"
     ]
    }
   ],
   "source": [
    "# Number of Shoppers by Age Groups \n",
    "\n",
    "teen = file[file['Age']== '0-17'].groupby('User_ID')['Age'].nunique()\n",
    "print('Age 0-17:', len(teen))\n",
    "\n",
    "twenty = file[file['Age']=='18-25'].groupby('User_ID')['Age'].nunique()\n",
    "print('Age 18-25:', len(twenty))\n",
    "\n",
    "thirties = file[file['Age']=='26-35'].groupby('User_ID')['Age'].nunique()\n",
    "print('Age 26-35:', len(thirties))\n",
    "\n",
    "fourties = file[file['Age']=='36-45'].groupby('User_ID')['Age'].nunique()\n",
    "print('Age 36-45:', len(fourties))\n",
    "\n",
    "fifty = file[file['Age']== '46-50'].groupby('User_ID')['Age'].nunique()\n",
    "print('Age 46-50:', len(fifty))\n",
    "\n",
    "fifties = file[file['Age']=='51-55'].groupby('User_ID')['Age'].nunique()\n",
    "print('Age 51-55:',len(fifties))\n",
    "\n",
    "plus = file[file['Age']== '55+'].groupby('User_ID')['Age'].nunique()\n",
    "print('Age 55+:',len(plus))\n"
   ]
  },
  {
   "cell_type": "code",
   "execution_count": 20,
   "metadata": {},
   "outputs": [],
   "source": [
    "# use this example \n",
    "import plotly\n",
    "from plotly.offline import plot\n",
    "import plotly.graph_objs as go"
   ]
  },
  {
   "cell_type": "code",
   "execution_count": 21,
   "metadata": {},
   "outputs": [],
   "source": [
    "from plotly.offline import download_plotlyjs, init_notebook_mode, plot, iplot"
   ]
  },
  {
   "cell_type": "code",
   "execution_count": 22,
   "metadata": {},
   "outputs": [
    {
     "data": {
      "text/html": [
       "<script type=\"text/javascript\">window.PlotlyConfig = {MathJaxConfig: 'local'};</script><script type=\"text/javascript\">if (window.MathJax) {MathJax.Hub.Config({SVG: {font: \"STIX-Web\"}});}</script><script>requirejs.config({paths: { 'plotly': ['https://cdn.plot.ly/plotly-latest.min']},});if(!window._Plotly) {require(['plotly'],function(plotly) {window._Plotly=plotly;});}</script>"
      ],
      "text/vnd.plotly.v1+html": [
       "<script type=\"text/javascript\">window.PlotlyConfig = {MathJaxConfig: 'local'};</script><script type=\"text/javascript\">if (window.MathJax) {MathJax.Hub.Config({SVG: {font: \"STIX-Web\"}});}</script><script>requirejs.config({paths: { 'plotly': ['https://cdn.plot.ly/plotly-latest.min']},});if(!window._Plotly) {require(['plotly'],function(plotly) {window._Plotly=plotly;});}</script>"
      ]
     },
     "metadata": {},
     "output_type": "display_data"
    }
   ],
   "source": [
    "init_notebook_mode(connected=True)"
   ]
  },
  {
   "cell_type": "code",
   "execution_count": 23,
   "metadata": {},
   "outputs": [
    {
     "data": {
      "application/vnd.plotly.v1+json": {
       "config": {
        "linkText": "Export to plot.ly/~yk2673/2",
        "plotlyServerURL": "https://plot.ly/~yk2673/2",
        "showLink": false
       },
       "data": [
        {
         "hoverinfo": "label+percent",
         "labels": [
          "0-17",
          "18-25",
          "26-35",
          "36-45",
          "46-50",
          "51-55",
          "55+"
         ],
         "marker": {
          "colors": [
           "#FEBFB3",
           "lavender",
           "skyblue",
           "cornflowerblue",
           "indianred",
           "gold",
           "tan"
          ],
          "line": {
           "color": "#000000",
           "width": 2
          }
         },
         "textfont": {
          "size": 20
         },
         "textinfo": "value",
         "type": "pie",
         "uid": "5abd6efb-d20e-4b1e-aa7f-e13c0850d01c",
         "values": [
          218,
          1069,
          2053,
          1167,
          531,
          481,
          372
         ]
        }
       ],
       "layout": {}
      },
      "text/html": [
       "<div id=\"58a8b49d-1eb7-42ab-bbbe-17187d2b8d09\" style=\"height: 525px; width: 100%;\" class=\"plotly-graph-div\"></div><script type=\"text/javascript\">require([\"plotly\"], function(Plotly) { window.PLOTLYENV=window.PLOTLYENV || {};window.PLOTLYENV.BASE_URL=\"https://plot.ly/~yk2673/2\";\n",
       "if (document.getElementById(\"58a8b49d-1eb7-42ab-bbbe-17187d2b8d09\")) {\n",
       "    Plotly.newPlot(\"58a8b49d-1eb7-42ab-bbbe-17187d2b8d09\", [{\"hoverinfo\": \"label+percent\", \"labels\": [\"0-17\", \"18-25\", \"26-35\", \"36-45\", \"46-50\", \"51-55\", \"55+\"], \"marker\": {\"colors\": [\"#FEBFB3\", \"lavender\", \"skyblue\", \"cornflowerblue\", \"indianred\", \"gold\", \"tan\"], \"line\": {\"color\": \"#000000\", \"width\": 2}}, \"textfont\": {\"size\": 20}, \"textinfo\": \"value\", \"values\": [218, 1069, 2053, 1167, 531, 481, 372], \"type\": \"pie\", \"uid\": \"097e07df-b55e-44e7-bc2a-6983ceb52390\"}], {}, {\"showLink\": false, \"linkText\": \"Export to plot.ly/~yk2673/2\", \"plotlyServerURL\": \"https://plot.ly/~yk2673/2\"}); \n",
       "}\n",
       "});</script><script type=\"text/javascript\">window.addEventListener(\"resize\", function(){if (document.getElementById(\"58a8b49d-1eb7-42ab-bbbe-17187d2b8d09\")) {window._Plotly.Plots.resize(document.getElementById(\"58a8b49d-1eb7-42ab-bbbe-17187d2b8d09\"));};})</script>"
      ],
      "text/vnd.plotly.v1+html": [
       "<div id=\"58a8b49d-1eb7-42ab-bbbe-17187d2b8d09\" style=\"height: 525px; width: 100%;\" class=\"plotly-graph-div\"></div><script type=\"text/javascript\">require([\"plotly\"], function(Plotly) { window.PLOTLYENV=window.PLOTLYENV || {};window.PLOTLYENV.BASE_URL=\"https://plot.ly/~yk2673/2\";\n",
       "if (document.getElementById(\"58a8b49d-1eb7-42ab-bbbe-17187d2b8d09\")) {\n",
       "    Plotly.newPlot(\"58a8b49d-1eb7-42ab-bbbe-17187d2b8d09\", [{\"hoverinfo\": \"label+percent\", \"labels\": [\"0-17\", \"18-25\", \"26-35\", \"36-45\", \"46-50\", \"51-55\", \"55+\"], \"marker\": {\"colors\": [\"#FEBFB3\", \"lavender\", \"skyblue\", \"cornflowerblue\", \"indianred\", \"gold\", \"tan\"], \"line\": {\"color\": \"#000000\", \"width\": 2}}, \"textfont\": {\"size\": 20}, \"textinfo\": \"value\", \"values\": [218, 1069, 2053, 1167, 531, 481, 372], \"type\": \"pie\", \"uid\": \"097e07df-b55e-44e7-bc2a-6983ceb52390\"}], {}, {\"showLink\": false, \"linkText\": \"Export to plot.ly/~yk2673/2\", \"plotlyServerURL\": \"https://plot.ly/~yk2673/2\"}); \n",
       "}\n",
       "});</script><script type=\"text/javascript\">window.addEventListener(\"resize\", function(){if (document.getElementById(\"58a8b49d-1eb7-42ab-bbbe-17187d2b8d09\")) {window._Plotly.Plots.resize(document.getElementById(\"58a8b49d-1eb7-42ab-bbbe-17187d2b8d09\"));};})</script>"
      ]
     },
     "metadata": {},
     "output_type": "display_data"
    }
   ],
   "source": [
    "labels = ['0-17','18-25','26-35','36-45','46-50','51-55','55+']\n",
    "values = [218,1069,2053,1167,531,481,372]\n",
    "colors = ['#FEBFB3', 'lavender', 'skyblue', 'cornflowerblue','indianred','gold','tan']\n",
    "\n",
    "trace = go.Pie(labels=labels, values=values,\n",
    "               hoverinfo='label+percent', textinfo='value', \n",
    "               textfont=dict(size=20),\n",
    "               marker=dict(colors=colors,line=dict(color='#000000', width=2)))\n",
    "\n",
    "plotly.offline.iplot([trace], filename='styled_pie_chart')\n"
   ]
  },
  {
   "cell_type": "code",
   "execution_count": 24,
   "metadata": {},
   "outputs": [
    {
     "name": "stdout",
     "output_type": "stream",
     "text": [
      "          Purchase\n",
      "Age               \n",
      "0-17    1326590.06\n",
      "18-25   9016692.80\n",
      "26-35  19997491.06\n",
      "36-45  10106495.65\n",
      "46-50   4134182.23\n",
      "51-55   3619083.56\n",
      "55+     1976148.42\n"
     ]
    }
   ],
   "source": [
    "age_purchase = file.groupby('Age').agg({'Purchase':np.sum})\n",
    "print((age_purchase)/100)"
   ]
  },
  {
   "cell_type": "code",
   "execution_count": 25,
   "metadata": {},
   "outputs": [
    {
     "data": {
      "image/png": "[encoded data removed]",
      "text/plain": [
       "<Figure size 432x288 with 1 Axes>"
      ]
     },
     "metadata": {},
     "output_type": "display_data"
    }
   ],
   "source": [
    "spending = [1326590,9016692,19997491,10106495,4134182,3619083,1976148]\n",
    "by_age = ['0-17','18-25','26-35','36-45','46-50','51-55','55+']\n",
    "y_axis = np.arange(len(by_age))\n",
    "plt.title('Total $ Spent by Age Range')\n",
    "plt.xlabel('Age Range')\n",
    "plt.ylabel('Dollars')\n",
    "plt.bar(y_axis,spending,color=['palegreen','mediumseagreen','darkturquoise','lightskyblue','deepskyblue','cornflowerblue','steelblue'])\n",
    "plt.xticks(y_axis,by_age)\n",
    "plt.show()"
   ]
  },
  {
   "cell_type": "markdown",
   "metadata": {},
   "source": [
    "Based on the data, age range from <code>26-35</code> spent the most out of all age ranges. While group <code>26-35</code> spent around 20 million dollars, groups from <code> 18-25 </code> and <code> 35-46 </code> have spent from 9 million to 10 million dollars. "
   ]
  },
  {
   "cell_type": "code",
   "execution_count": 26,
   "metadata": {},
   "outputs": [
    {
     "name": "stdout",
     "output_type": "stream",
     "text": [
      "        Purchase\n",
      "Age             \n",
      "0-17   90.201269\n",
      "18-25  92.351976\n",
      "26-35  93.145890\n",
      "36-45  94.014788\n",
      "46-50  92.848723\n",
      "51-55  96.206166\n",
      "55+    94.538986\n"
     ]
    }
   ],
   "source": [
    "age_purchase = file.groupby('Age').agg({'Purchase':np.mean})\n",
    "print(age_purchase/100)"
   ]
  },
  {
   "cell_type": "code",
   "execution_count": 27,
   "metadata": {},
   "outputs": [
    {
     "data": {
      "image/png": "[encoded data removed]",
      "text/plain": [
       "<Figure size 432x288 with 1 Axes>"
      ]
     },
     "metadata": {},
     "output_type": "display_data"
    },
    {
     "name": "stdout",
     "output_type": "stream",
     "text": [
      "Average spending: 93.32571428571428\n"
     ]
    }
   ],
   "source": [
    "avg_spending = [90.20,92.35,93.14,94.01,92.84,96.20,94.54]\n",
    "by_age = ['0-17','18-25','26-35','36-45','46-50','51-55','55+']\n",
    "y_axis = np.arange(len(by_age))\n",
    "plt.title('Average $ Spent by Age Range')\n",
    "plt.xlabel('Age Range')\n",
    "plt.ylabel('Dollars')\n",
    "plt.bar(y_axis,avg_spending,color=['palegreen','mediumseagreen','darkturquoise','lightskyblue','deepskyblue','cornflowerblue','steelblue'])\n",
    "plt.xticks(y_axis,by_age)\n",
    "plt.show()\n",
    "print('Average spending:',sum(avg_spending) / len(avg_spending))"
   ]
  },
  {
   "cell_type": "markdown",
   "metadata": {},
   "source": [
    "# Gender and Age Group"
   ]
  },
  {
   "cell_type": "markdown",
   "metadata": {},
   "source": [
    "As I mentioned earlier, I divided 100 for each purchase. \n",
    "However, if you look at the average eage group's age range, most of the groups spent average around $93. Group <code> 51-55 </code> seems to have spent slightly more than other groups in average spending.  "
   ]
  },
  {
   "cell_type": "code",
   "execution_count": 28,
   "metadata": {},
   "outputs": [
    {
     "name": "stdout",
     "output_type": "stream",
     "text": [
      "Gender  Age  \n",
      "F       0-17       78\n",
      "        18-25     287\n",
      "        26-35     545\n",
      "        36-45     333\n",
      "        46-50     182\n",
      "        51-55     142\n",
      "        55+        99\n",
      "M       0-17      140\n",
      "        18-25     782\n",
      "        26-35    1508\n",
      "        36-45     834\n",
      "        46-50     349\n",
      "        51-55     339\n",
      "        55+       273\n",
      "Name: User_ID, dtype: int64\n"
     ]
    }
   ],
   "source": [
    "population = file.groupby(['Gender','Age'])['User_ID'].nunique()\n",
    "print(population)"
   ]
  },
  {
   "cell_type": "code",
   "execution_count": 29,
   "metadata": {},
   "outputs": [
    {
     "data": {
      "application/vnd.plotly.v1+json": {
       "config": {
        "linkText": "Export to plot.ly/~yk2673/2",
        "plotlyServerURL": "https://plot.ly/~yk2673/2",
        "showLink": false
       },
       "data": [
        {
         "domain": {
          "x": [
           0,
           0.75
          ],
          "y": [
           0,
           0.75
          ]
         },
         "hoverinfo": "label+percent+name",
         "labels": [
          "0-17",
          "18-25",
          "26-35",
          "36-45",
          "46-50",
          "51-55",
          "55+"
         ],
         "marker": {
          "colors": [
           "rgb(56, 75, 126)",
           "rgb(18, 36, 37)",
           "seagreen",
           "cadetblue",
           "rgb(6, 4, 4)"
          ]
         },
         "name": "Female Age Group",
         "textinfo": "value",
         "type": "pie",
         "uid": "50da0aca-bd82-43fe-80c0-89ef20c02274",
         "values": [
          78,
          287,
          545,
          333,
          182,
          142,
          99
         ]
        },
        {
         "domain": {
          "x": [
           0.5,
           1
          ],
          "y": [
           0,
           0.75
          ]
         },
         "hoverinfo": "label+percent+name",
         "labels": [
          "0-17",
          "18-25",
          "26-35",
          "36-45",
          "46-50",
          "51-55",
          "55+"
         ],
         "marker": {
          "colors": [
           "rgb(177, 127, 38)",
           "rgb(205, 152, 36)",
           "rgb(99, 79, 37)",
           "rgb(129, 180, 179)",
           "rgb(124, 103, 37)"
          ]
         },
         "name": "Male Age Group",
         "textinfo": "value",
         "type": "pie",
         "uid": "8352eb88-03ae-429e-81f0-26773898049b",
         "values": [
          140,
          782,
          1508,
          834,
          349,
          339,
          273
         ]
        }
       ],
       "layout": {
        "showlegend": true,
        "title": {
         "text": "Number of Shoppers by Gender and Age Group"
        }
       }
      },
      "text/html": [
       "<div id=\"eb224d2c-2f59-4540-937c-9247f0d50848\" style=\"height: 525px; width: 100%;\" class=\"plotly-graph-div\"></div><script type=\"text/javascript\">require([\"plotly\"], function(Plotly) { window.PLOTLYENV=window.PLOTLYENV || {};window.PLOTLYENV.BASE_URL=\"https://plot.ly/~yk2673/2\";\n",
       "if (document.getElementById(\"eb224d2c-2f59-4540-937c-9247f0d50848\")) {\n",
       "    Plotly.newPlot(\"eb224d2c-2f59-4540-937c-9247f0d50848\", [{\"domain\": {\"x\": [0, 0.75], \"y\": [0, 0.75]}, \"hoverinfo\": \"label+percent+name\", \"labels\": [\"0-17\", \"18-25\", \"26-35\", \"36-45\", \"46-50\", \"51-55\", \"55+\"], \"marker\": {\"colors\": [\"rgb(56, 75, 126)\", \"rgb(18, 36, 37)\", \"seagreen\", \"cadetblue\", \"rgb(6, 4, 4)\"]}, \"name\": \"Female Age Group\", \"textinfo\": \"value\", \"values\": [78, 287, 545, 333, 182, 142, 99], \"type\": \"pie\", \"uid\": \"02e47d93-f86b-4f59-8ff3-d4897e54b608\"}, {\"domain\": {\"x\": [0.5, 1], \"y\": [0, 0.75]}, \"hoverinfo\": \"label+percent+name\", \"labels\": [\"0-17\", \"18-25\", \"26-35\", \"36-45\", \"46-50\", \"51-55\", \"55+\"], \"marker\": {\"colors\": [\"rgb(177, 127, 38)\", \"rgb(205, 152, 36)\", \"rgb(99, 79, 37)\", \"rgb(129, 180, 179)\", \"rgb(124, 103, 37)\"]}, \"name\": \"Male Age Group\", \"textinfo\": \"value\", \"values\": [140, 782, 1508, 834, 349, 339, 273], \"type\": \"pie\", \"uid\": \"ee389a31-19ea-4ae9-942d-356612621d6e\"}], {\"showlegend\": true, \"title\": {\"text\": \"Number of Shoppers by Gender and Age Group\"}}, {\"showLink\": false, \"linkText\": \"Export to plot.ly/~yk2673/2\", \"plotlyServerURL\": \"https://plot.ly/~yk2673/2\"}); \n",
       "}\n",
       "});</script><script type=\"text/javascript\">window.addEventListener(\"resize\", function(){if (document.getElementById(\"eb224d2c-2f59-4540-937c-9247f0d50848\")) {window._Plotly.Plots.resize(document.getElementById(\"eb224d2c-2f59-4540-937c-9247f0d50848\"));};})</script>"
      ],
      "text/vnd.plotly.v1+html": [
       "<div id=\"eb224d2c-2f59-4540-937c-9247f0d50848\" style=\"height: 525px; width: 100%;\" class=\"plotly-graph-div\"></div><script type=\"text/javascript\">require([\"plotly\"], function(Plotly) { window.PLOTLYENV=window.PLOTLYENV || {};window.PLOTLYENV.BASE_URL=\"https://plot.ly/~yk2673/2\";\n",
       "if (document.getElementById(\"eb224d2c-2f59-4540-937c-9247f0d50848\")) {\n",
       "    Plotly.newPlot(\"eb224d2c-2f59-4540-937c-9247f0d50848\", [{\"domain\": {\"x\": [0, 0.75], \"y\": [0, 0.75]}, \"hoverinfo\": \"label+percent+name\", \"labels\": [\"0-17\", \"18-25\", \"26-35\", \"36-45\", \"46-50\", \"51-55\", \"55+\"], \"marker\": {\"colors\": [\"rgb(56, 75, 126)\", \"rgb(18, 36, 37)\", \"seagreen\", \"cadetblue\", \"rgb(6, 4, 4)\"]}, \"name\": \"Female Age Group\", \"textinfo\": \"value\", \"values\": [78, 287, 545, 333, 182, 142, 99], \"type\": \"pie\", \"uid\": \"02e47d93-f86b-4f59-8ff3-d4897e54b608\"}, {\"domain\": {\"x\": [0.5, 1], \"y\": [0, 0.75]}, \"hoverinfo\": \"label+percent+name\", \"labels\": [\"0-17\", \"18-25\", \"26-35\", \"36-45\", \"46-50\", \"51-55\", \"55+\"], \"marker\": {\"colors\": [\"rgb(177, 127, 38)\", \"rgb(205, 152, 36)\", \"rgb(99, 79, 37)\", \"rgb(129, 180, 179)\", \"rgb(124, 103, 37)\"]}, \"name\": \"Male Age Group\", \"textinfo\": \"value\", \"values\": [140, 782, 1508, 834, 349, 339, 273], \"type\": \"pie\", \"uid\": \"ee389a31-19ea-4ae9-942d-356612621d6e\"}], {\"showlegend\": true, \"title\": {\"text\": \"Number of Shoppers by Gender and Age Group\"}}, {\"showLink\": false, \"linkText\": \"Export to plot.ly/~yk2673/2\", \"plotlyServerURL\": \"https://plot.ly/~yk2673/2\"}); \n",
       "}\n",
       "});</script><script type=\"text/javascript\">window.addEventListener(\"resize\", function(){if (document.getElementById(\"eb224d2c-2f59-4540-937c-9247f0d50848\")) {window._Plotly.Plots.resize(document.getElementById(\"eb224d2c-2f59-4540-937c-9247f0d50848\"));};})</script>"
      ]
     },
     "metadata": {},
     "output_type": "display_data"
    }
   ],
   "source": [
    "fig = {\n",
    "    'data': [\n",
    "        {\n",
    "            'labels': ['0-17', '18-25', '26-35', '36-45', '46-50','51-55','55+'],\n",
    "            'values': [78,287,545,333,182,142,99],\n",
    "            'type': 'pie',\n",
    "            'name': 'Female Age Group',\n",
    "            'marker': {'colors': ['rgb(56, 75, 126)',\n",
    "                                  'rgb(18, 36, 37)',\n",
    "                                  'seagreen',\n",
    "                                  'cadetblue',\n",
    "                                  'rgb(6, 4, 4)']},\n",
    "            'domain': {'x': [0, .75],\n",
    "                       'y': [0, .75]},\n",
    "            'hoverinfo':'label+percent+name',\n",
    "            'textinfo':'value' \n",
    "        },\n",
    "        {\n",
    "            'labels': ['0-17', '18-25', '26-35', '36-45', '46-50','51-55','55+'],\n",
    "            'values': [140, 782, 1508, 834,349, 339, 273],\n",
    "            'marker': {'colors': ['rgb(177, 127, 38)',\n",
    "                                  'rgb(205, 152, 36)',\n",
    "                                  'rgb(99, 79, 37)',\n",
    "                                  'rgb(129, 180, 179)',\n",
    "                                  'rgb(124, 103, 37)']},\n",
    "            'type': 'pie',\n",
    "            'name': 'Male Age Group',\n",
    "            'domain': {'x': [0.5, 1],\n",
    "                       'y': [0, .75]},\n",
    "            'hoverinfo':'label+percent+name',\n",
    "            'textinfo':'value'\n",
    "\n",
    "        }], 'layout': {'title':'Number of Shoppers by Gender and Age Group',\n",
    "               'showlegend': True},\n",
    "}\n",
    "\n",
    "plotly.offline.iplot(fig, filename='styled_pie_chart')"
   ]
  },
  {
   "cell_type": "markdown",
   "metadata": {},
   "source": [
    "Among the age groups, age group<code> 26-35 </code> had the most customers."
   ]
  },
  {
   "cell_type": "code",
   "execution_count": 30,
   "metadata": {},
   "outputs": [
    {
     "name": "stdout",
     "output_type": "stream",
     "text": [
      "Gender  Age  \n",
      "F       0-17     84.447032\n",
      "        18-25    84.054309\n",
      "        26-35    87.917987\n",
      "        36-45    90.465738\n",
      "        46-50    89.294487\n",
      "        51-55    91.314518\n",
      "        55+      91.195772\n",
      "M       0-17     93.123222\n",
      "        18-25    95.065011\n",
      "        26-35    94.706211\n",
      "        36-45    95.171263\n",
      "        46-50    94.291516\n",
      "        51-55    97.890205\n",
      "        55+      95.570581\n",
      "Name: Purchase, dtype: float64\n",
      "Highest Average Spent: 97.89020475986277\n",
      "Least Average Spent: 84.05430851727148\n"
     ]
    }
   ],
   "source": [
    "compare = file.groupby(['Gender','Age'])['Purchase'].mean()\n",
    "edit = compare/100\n",
    "print(edit)\n",
    "print('Highest Average Spent:',max(edit))\n",
    "print('Least Average Spent:', min(edit))"
   ]
  },
  {
   "cell_type": "code",
   "execution_count": 31,
   "metadata": {},
   "outputs": [
    {
     "data": {
      "application/vnd.plotly.v1+json": {
       "config": {
        "linkText": "Export to plot.ly/~yk2673/2",
        "plotlyServerURL": "https://plot.ly/~yk2673/2",
        "showLink": false
       },
       "data": [
        {
         "marker": {
          "color": "rgb(158,202,225)",
          "line": {
           "color": "rgb(8,48,107)",
           "width": 1.5
          }
         },
         "name": "Female Age Group",
         "opacity": 0.6,
         "text": [
          "84.44",
          "84.05",
          "87.91",
          "90.47",
          "89.29",
          "91.31",
          "91.2"
         ],
         "textposition": "auto",
         "type": "bar",
         "uid": "1ba5fece-ae5c-4cda-af37-55af8bdf17e8",
         "x": [
          "0-17",
          "18-25",
          "26-35",
          "36-45",
          "46-50",
          "51-55",
          "55+"
         ],
         "y": [
          84.44,
          84.05,
          87.91,
          90.47,
          89.29,
          91.31,
          91.2
         ]
        },
        {
         "marker": {
          "color": "rgb(58,200,225)",
          "line": {
           "color": "rgb(8,48,107)",
           "width": 1.5
          }
         },
         "name": "Male Age Group",
         "opacity": 0.6,
         "text": [
          "93.12",
          "95.07",
          "94.71",
          "95.17",
          "94.29",
          "97.89",
          "95.57"
         ],
         "textposition": "auto",
         "type": "bar",
         "uid": "93ab03d8-1686-424d-8441-e628f08e76ec",
         "x": [
          "0-17",
          "18-25",
          "26-35",
          "36-45",
          "46-50",
          "51-55",
          "55+"
         ],
         "y": [
          93.12,
          95.07,
          94.71,
          95.17,
          94.29,
          97.89,
          95.57
         ]
        }
       ],
       "layout": {
        "title": {
         "text": "Average Dollars Spent by Gender and Age Group"
        },
        "xaxis": {
         "title": {
          "text": "Age Group"
         }
        },
        "yaxis": {
         "title": {
          "text": "Dollars in USD"
         }
        }
       }
      },
      "text/html": [
       "<div id=\"6bcced03-4d1c-4496-beb0-6d91ed5f930e\" style=\"height: 525px; width: 100%;\" class=\"plotly-graph-div\"></div><script type=\"text/javascript\">require([\"plotly\"], function(Plotly) { window.PLOTLYENV=window.PLOTLYENV || {};window.PLOTLYENV.BASE_URL=\"https://plot.ly/~yk2673/2\";\n",
       "if (document.getElementById(\"6bcced03-4d1c-4496-beb0-6d91ed5f930e\")) {\n",
       "    Plotly.newPlot(\"6bcced03-4d1c-4496-beb0-6d91ed5f930e\", [{\"marker\": {\"color\": \"rgb(158,202,225)\", \"line\": {\"color\": \"rgb(8,48,107)\", \"width\": 1.5}}, \"name\": \"Female Age Group\", \"opacity\": 0.6, \"text\": [\"84.44\", \"84.05\", \"87.91\", \"90.47\", \"89.29\", \"91.31\", \"91.2\"], \"textposition\": \"auto\", \"x\": [\"0-17\", \"18-25\", \"26-35\", \"36-45\", \"46-50\", \"51-55\", \"55+\"], \"y\": [84.44, 84.05, 87.91, 90.47, 89.29, 91.31, 91.2], \"type\": \"bar\", \"uid\": \"5e9c130f-56c8-4ea0-a3e8-0c8b95bc0d86\"}, {\"marker\": {\"color\": \"rgb(58,200,225)\", \"line\": {\"color\": \"rgb(8,48,107)\", \"width\": 1.5}}, \"name\": \"Male Age Group\", \"opacity\": 0.6, \"text\": [\"93.12\", \"95.07\", \"94.71\", \"95.17\", \"94.29\", \"97.89\", \"95.57\"], \"textposition\": \"auto\", \"x\": [\"0-17\", \"18-25\", \"26-35\", \"36-45\", \"46-50\", \"51-55\", \"55+\"], \"y\": [93.12, 95.07, 94.71, 95.17, 94.29, 97.89, 95.57], \"type\": \"bar\", \"uid\": \"a2370c3c-8141-467e-9681-1cd194c78202\"}], {\"title\": {\"text\": \"Average Dollars Spent by Gender and Age Group\"}, \"xaxis\": {\"title\": {\"text\": \"Age Group\"}}, \"yaxis\": {\"title\": {\"text\": \"Dollars in USD\"}}}, {\"showLink\": false, \"linkText\": \"Export to plot.ly/~yk2673/2\", \"plotlyServerURL\": \"https://plot.ly/~yk2673/2\"}); \n",
       "}\n",
       "});</script><script type=\"text/javascript\">window.addEventListener(\"resize\", function(){if (document.getElementById(\"6bcced03-4d1c-4496-beb0-6d91ed5f930e\")) {window._Plotly.Plots.resize(document.getElementById(\"6bcced03-4d1c-4496-beb0-6d91ed5f930e\"));};})</script>"
      ],
      "text/vnd.plotly.v1+html": [
       "<div id=\"6bcced03-4d1c-4496-beb0-6d91ed5f930e\" style=\"height: 525px; width: 100%;\" class=\"plotly-graph-div\"></div><script type=\"text/javascript\">require([\"plotly\"], function(Plotly) { window.PLOTLYENV=window.PLOTLYENV || {};window.PLOTLYENV.BASE_URL=\"https://plot.ly/~yk2673/2\";\n",
       "if (document.getElementById(\"6bcced03-4d1c-4496-beb0-6d91ed5f930e\")) {\n",
       "    Plotly.newPlot(\"6bcced03-4d1c-4496-beb0-6d91ed5f930e\", [{\"marker\": {\"color\": \"rgb(158,202,225)\", \"line\": {\"color\": \"rgb(8,48,107)\", \"width\": 1.5}}, \"name\": \"Female Age Group\", \"opacity\": 0.6, \"text\": [\"84.44\", \"84.05\", \"87.91\", \"90.47\", \"89.29\", \"91.31\", \"91.2\"], \"textposition\": \"auto\", \"x\": [\"0-17\", \"18-25\", \"26-35\", \"36-45\", \"46-50\", \"51-55\", \"55+\"], \"y\": [84.44, 84.05, 87.91, 90.47, 89.29, 91.31, 91.2], \"type\": \"bar\", \"uid\": \"5e9c130f-56c8-4ea0-a3e8-0c8b95bc0d86\"}, {\"marker\": {\"color\": \"rgb(58,200,225)\", \"line\": {\"color\": \"rgb(8,48,107)\", \"width\": 1.5}}, \"name\": \"Male Age Group\", \"opacity\": 0.6, \"text\": [\"93.12\", \"95.07\", \"94.71\", \"95.17\", \"94.29\", \"97.89\", \"95.57\"], \"textposition\": \"auto\", \"x\": [\"0-17\", \"18-25\", \"26-35\", \"36-45\", \"46-50\", \"51-55\", \"55+\"], \"y\": [93.12, 95.07, 94.71, 95.17, 94.29, 97.89, 95.57], \"type\": \"bar\", \"uid\": \"a2370c3c-8141-467e-9681-1cd194c78202\"}], {\"title\": {\"text\": \"Average Dollars Spent by Gender and Age Group\"}, \"xaxis\": {\"title\": {\"text\": \"Age Group\"}}, \"yaxis\": {\"title\": {\"text\": \"Dollars in USD\"}}}, {\"showLink\": false, \"linkText\": \"Export to plot.ly/~yk2673/2\", \"plotlyServerURL\": \"https://plot.ly/~yk2673/2\"}); \n",
       "}\n",
       "});</script><script type=\"text/javascript\">window.addEventListener(\"resize\", function(){if (document.getElementById(\"6bcced03-4d1c-4496-beb0-6d91ed5f930e\")) {window._Plotly.Plots.resize(document.getElementById(\"6bcced03-4d1c-4496-beb0-6d91ed5f930e\"));};})</script>"
      ]
     },
     "metadata": {},
     "output_type": "display_data"
    }
   ],
   "source": [
    "x = ['0-17', '18-25','26-35','36-45','46-50','51-55','55+']\n",
    "y_female= [84.44, 84.05, 87.91, 90.47, 89.29, 91.31, 91.2]\n",
    "y_male = [93.12, 95.07, 94.71, 95.17, 94.29, 97.89, 95.57]\n",
    "\n",
    "trace1 = go.Bar(\n",
    "    x=x,\n",
    "    y= y_female,\n",
    "    text= y_female, \n",
    "    textposition = 'auto',\n",
    "    name = 'Female Age Group',\n",
    "    marker=dict(\n",
    "        color='rgb(158,202,225)',\n",
    "        line=dict(\n",
    "            color='rgb(8,48,107)',\n",
    "            width=1.5),\n",
    "        ),\n",
    "    opacity=0.6\n",
    ")\n",
    "\n",
    "trace2 = go.Bar(\n",
    "    x=x,\n",
    "    y=y_male,\n",
    "    text=y_male,\n",
    "    textposition = 'auto',\n",
    "    name = 'Male Age Group',\n",
    "    marker=dict(\n",
    "        color='rgb(58,200,225)',\n",
    "        line=dict(\n",
    "            color='rgb(8,48,107)',\n",
    "            width=1.5),\n",
    "        ),\n",
    "    opacity=0.6\n",
    ")\n",
    "\n",
    "data = [trace1,trace2]\n",
    "layout = {'xaxis': {'title':'Age Group'},\n",
    "          'yaxis':{'title': 'Dollars in USD'},\n",
    "          'title':'Average Dollars Spent by Gender and Age Group'};\n",
    "\n",
    "plotly.offline.iplot({'data':data, 'layout':layout}, filename='grouped-bar-direct-labels')"
   ]
  },
  {
   "cell_type": "markdown",
   "metadata": {},
   "source": [
    "Despite the fact that <code>26-35</code> had the most customers on Black Friday, that age group <code> 51-55 </code> had higher average spendings compared to other groups. "
   ]
  },
  {
   "cell_type": "markdown",
   "metadata": {},
   "source": [
    "# Occupation "
   ]
  },
  {
   "cell_type": "code",
   "execution_count": 32,
   "metadata": {},
   "outputs": [
    {
     "name": "stdout",
     "output_type": "stream",
     "text": [
      "Occupation\n",
      "0     688\n",
      "1     517\n",
      "2     256\n",
      "3     170\n",
      "4     740\n",
      "5     111\n",
      "6     228\n",
      "7     669\n",
      "8      17\n",
      "9      88\n",
      "10    192\n",
      "11    128\n",
      "12    376\n",
      "13    140\n",
      "14    294\n",
      "15    140\n",
      "16    235\n",
      "17    491\n",
      "18     67\n",
      "19     71\n",
      "20    273\n",
      "Name: User_ID, dtype: int64\n"
     ]
    }
   ],
   "source": [
    "occupation = file.groupby(['Occupation'])['User_ID'].nunique()\n",
    "print(occupation)"
   ]
  },
  {
   "cell_type": "code",
   "execution_count": 33,
   "metadata": {},
   "outputs": [
    {
     "data": {
      "text/plain": [
       "array([688, 517, 256, 170, 740, 111, 228, 669,  17,  88, 192, 128, 376,\n",
       "       140, 294, 235, 491,  67,  71, 273])"
      ]
     },
     "execution_count": 33,
     "metadata": {},
     "output_type": "execute_result"
    }
   ],
   "source": [
    "occupation.unique()"
   ]
  },
  {
   "cell_type": "code",
   "execution_count": 34,
   "metadata": {},
   "outputs": [
    {
     "data": {
      "application/vnd.plotly.v1+json": {
       "config": {
        "linkText": "Export to plot.ly/~yk2673/2",
        "plotlyServerURL": "https://plot.ly/~yk2673/2",
        "showLink": false
       },
       "data": [
        {
         "marker": {
          "color": [
           "rgba(204,204,204,1)",
           "rgba(222,45,38,0.8)",
           "rgba(204,204,204,1)",
           "rgba(204,204,204,1)",
           "steelblue",
           "lightblue"
          ]
         },
         "type": "bar",
         "uid": "01c3ccb9-299d-482f-9d09-2b6dab27dc01",
         "x": [
          0,
          1,
          2,
          3,
          4,
          5,
          6,
          7,
          8,
          9,
          10,
          11,
          12,
          13,
          14,
          15,
          16,
          17,
          18,
          19,
          21
         ],
         "y": [
          688,
          517,
          256,
          170,
          740,
          111,
          228,
          669,
          17,
          88,
          192,
          128,
          376,
          140,
          294,
          235,
          491,
          67,
          71,
          273
         ]
        }
       ],
       "layout": {
        "title": {
         "text": "Numbers by Occupation"
        }
       }
      },
      "text/html": [
       "<div id=\"09dd6c60-d216-4ca3-b374-b4d0cfa448c5\" style=\"height: 525px; width: 100%;\" class=\"plotly-graph-div\"></div><script type=\"text/javascript\">require([\"plotly\"], function(Plotly) { window.PLOTLYENV=window.PLOTLYENV || {};window.PLOTLYENV.BASE_URL=\"https://plot.ly/~yk2673/2\";\n",
       "if (document.getElementById(\"09dd6c60-d216-4ca3-b374-b4d0cfa448c5\")) {\n",
       "    Plotly.newPlot(\"09dd6c60-d216-4ca3-b374-b4d0cfa448c5\", [{\"marker\": {\"color\": [\"rgba(204,204,204,1)\", \"rgba(222,45,38,0.8)\", \"rgba(204,204,204,1)\", \"rgba(204,204,204,1)\", \"steelblue\", \"lightblue\"]}, \"x\": [0, 1, 2, 3, 4, 5, 6, 7, 8, 9, 10, 11, 12, 13, 14, 15, 16, 17, 18, 19, 21], \"y\": [688, 517, 256, 170, 740, 111, 228, 669, 17, 88, 192, 128, 376, 140, 294, 235, 491, 67, 71, 273], \"type\": \"bar\", \"uid\": \"01c3ccb9-299d-482f-9d09-2b6dab27dc01\"}], {\"title\": {\"text\": \"Numbers by Occupation\"}}, {\"showLink\": false, \"linkText\": \"Export to plot.ly/~yk2673/2\", \"plotlyServerURL\": \"https://plot.ly/~yk2673/2\"}); \n",
       "}\n",
       "});</script><script type=\"text/javascript\">window.addEventListener(\"resize\", function(){if (document.getElementById(\"09dd6c60-d216-4ca3-b374-b4d0cfa448c5\")) {window._Plotly.Plots.resize(document.getElementById(\"09dd6c60-d216-4ca3-b374-b4d0cfa448c5\"));};})</script>"
      ],
      "text/vnd.plotly.v1+html": [
       "<div id=\"09dd6c60-d216-4ca3-b374-b4d0cfa448c5\" style=\"height: 525px; width: 100%;\" class=\"plotly-graph-div\"></div><script type=\"text/javascript\">require([\"plotly\"], function(Plotly) { window.PLOTLYENV=window.PLOTLYENV || {};window.PLOTLYENV.BASE_URL=\"https://plot.ly/~yk2673/2\";\n",
       "if (document.getElementById(\"09dd6c60-d216-4ca3-b374-b4d0cfa448c5\")) {\n",
       "    Plotly.newPlot(\"09dd6c60-d216-4ca3-b374-b4d0cfa448c5\", [{\"marker\": {\"color\": [\"rgba(204,204,204,1)\", \"rgba(222,45,38,0.8)\", \"rgba(204,204,204,1)\", \"rgba(204,204,204,1)\", \"steelblue\", \"lightblue\"]}, \"x\": [0, 1, 2, 3, 4, 5, 6, 7, 8, 9, 10, 11, 12, 13, 14, 15, 16, 17, 18, 19, 21], \"y\": [688, 517, 256, 170, 740, 111, 228, 669, 17, 88, 192, 128, 376, 140, 294, 235, 491, 67, 71, 273], \"type\": \"bar\", \"uid\": \"01c3ccb9-299d-482f-9d09-2b6dab27dc01\"}], {\"title\": {\"text\": \"Numbers by Occupation\"}}, {\"showLink\": false, \"linkText\": \"Export to plot.ly/~yk2673/2\", \"plotlyServerURL\": \"https://plot.ly/~yk2673/2\"}); \n",
       "}\n",
       "});</script><script type=\"text/javascript\">window.addEventListener(\"resize\", function(){if (document.getElementById(\"09dd6c60-d216-4ca3-b374-b4d0cfa448c5\")) {window._Plotly.Plots.resize(document.getElementById(\"09dd6c60-d216-4ca3-b374-b4d0cfa448c5\"));};})</script>"
      ]
     },
     "metadata": {},
     "output_type": "display_data"
    }
   ],
   "source": [
    "trace0 = go.Bar(\n",
    "    x=[0,1,2,3,4,5,6,7,8,9,10,11,12,13,14,15,16,17,18,19,21],\n",
    "    y=[688, 517, 256, 170, 740, 111, 228, 669,17, 88, 192, 128, 376,\n",
    "       140, 294, 235, 491, 67, 71, 273],\n",
    "    marker=dict(\n",
    "        color=['rgba(204,204,204,1)', 'rgba(222,45,38,0.8)',\n",
    "               'rgba(204,204,204,1)', 'rgba(204,204,204,1)',\n",
    "               'steelblue','lightblue']),\n",
    ")\n",
    "\n",
    "data = [trace0]\n",
    "layout = go.Layout(\n",
    "    title='Numbers by Occupation',\n",
    ")\n",
    "\n",
    "fig = go.Figure(data=data, layout=layout)\n",
    "plotly.offline.iplot(fig, filename='color-bar')"
   ]
  },
  {
   "cell_type": "code",
   "execution_count": 35,
   "metadata": {},
   "outputs": [],
   "source": [
    "#Because it is a large dataset, there are so many ways to interpret this.\n",
    "#Occupation and Purchase\n",
    "# City and Purchase\n",
    "# Stay in Current city and Purchase\n",
    "\n",
    "#Occupation and product categories\n",
    "#Gender and product categories\n",
    "# Age group and Product Categories"
   ]
  },
  {
   "cell_type": "markdown",
   "metadata": {},
   "source": [
    "# Finding Correlation "
   ]
  },
  {
   "cell_type": "code",
   "execution_count": 36,
   "metadata": {},
   "outputs": [],
   "source": [
    "from sklearn.linear_model import LinearRegression"
   ]
  },
  {
   "cell_type": "code",
   "execution_count": 37,
   "metadata": {},
   "outputs": [],
   "source": [
    "import seaborn as sns "
   ]
  },
  {
   "cell_type": "code",
   "execution_count": 38,
   "metadata": {},
   "outputs": [
    {
     "data": {
      "text/plain": [
       "array([2, '4+', 3, 1, 0], dtype=object)"
      ]
     },
     "execution_count": 38,
     "metadata": {},
     "output_type": "execute_result"
    }
   ],
   "source": [
    "file['Stay_In_Current_City_Years'].unique()"
   ]
  },
  {
   "cell_type": "code",
   "execution_count": 39,
   "metadata": {},
   "outputs": [
    {
     "data": {
      "text/plain": [
       "array([2, 2, 2, ..., 1, 1, 1], dtype=object)"
      ]
     },
     "execution_count": 39,
     "metadata": {},
     "output_type": "execute_result"
    }
   ],
   "source": [
    "file.Stay_In_Current_City_Years.values"
   ]
  },
  {
   "cell_type": "code",
   "execution_count": 40,
   "metadata": {},
   "outputs": [],
   "source": [
    "gender_change = {'F':1,'M':2}\n",
    "age_change = {'0-17':0, '18-25':1,'26-35':2,'36-45':3,'46-50':4,'51-55':5,'55+':6 }\n",
    "city_change = {'A':1,'B':2,'C':3}\n",
    "resident_change = {'4+': 4}\n",
    "current_data = file.replace({'Gender':gender_change,'Age':age_change,'City_Category':city_change, 'Stay_In_Current_City_Years':resident_change})"
   ]
  },
  {
   "cell_type": "code",
   "execution_count": 41,
   "metadata": {},
   "outputs": [
    {
     "data": {
      "text/html": [
       "<div>\n",
       "<style scoped>\n",
       "    .dataframe tbody tr th:only-of-type {\n",
       "        vertical-align: middle;\n",
       "    }\n",
       "\n",
       "    .dataframe tbody tr th {\n",
       "        vertical-align: top;\n",
       "    }\n",
       "\n",
       "    .dataframe thead th {\n",
       "        text-align: right;\n",
       "    }\n",
       "</style>\n",
       "<table border=\"1\" class=\"dataframe\">\n",
       "  <thead>\n",
       "    <tr style=\"text-align: right;\">\n",
       "      <th></th>\n",
       "      <th>User_ID</th>\n",
       "      <th>Product_ID</th>\n",
       "      <th>Gender</th>\n",
       "      <th>Age</th>\n",
       "      <th>Occupation</th>\n",
       "      <th>City_Category</th>\n",
       "      <th>Stay_In_Current_City_Years</th>\n",
       "      <th>Marital_Status</th>\n",
       "      <th>Product_Category_1</th>\n",
       "      <th>Product_Category_2</th>\n",
       "      <th>Product_Category_3</th>\n",
       "      <th>Purchase</th>\n",
       "    </tr>\n",
       "  </thead>\n",
       "  <tbody>\n",
       "    <tr>\n",
       "      <th>0</th>\n",
       "      <td>1000001</td>\n",
       "      <td>P00069042</td>\n",
       "      <td>1</td>\n",
       "      <td>0</td>\n",
       "      <td>10</td>\n",
       "      <td>1</td>\n",
       "      <td>2</td>\n",
       "      <td>0</td>\n",
       "      <td>3</td>\n",
       "      <td>NaN</td>\n",
       "      <td>NaN</td>\n",
       "      <td>8370</td>\n",
       "    </tr>\n",
       "    <tr>\n",
       "      <th>1</th>\n",
       "      <td>1000001</td>\n",
       "      <td>P00248942</td>\n",
       "      <td>1</td>\n",
       "      <td>0</td>\n",
       "      <td>10</td>\n",
       "      <td>1</td>\n",
       "      <td>2</td>\n",
       "      <td>0</td>\n",
       "      <td>1</td>\n",
       "      <td>6.0</td>\n",
       "      <td>14.0</td>\n",
       "      <td>15200</td>\n",
       "    </tr>\n",
       "    <tr>\n",
       "      <th>2</th>\n",
       "      <td>1000001</td>\n",
       "      <td>P00087842</td>\n",
       "      <td>1</td>\n",
       "      <td>0</td>\n",
       "      <td>10</td>\n",
       "      <td>1</td>\n",
       "      <td>2</td>\n",
       "      <td>0</td>\n",
       "      <td>12</td>\n",
       "      <td>NaN</td>\n",
       "      <td>NaN</td>\n",
       "      <td>1422</td>\n",
       "    </tr>\n",
       "    <tr>\n",
       "      <th>3</th>\n",
       "      <td>1000001</td>\n",
       "      <td>P00085442</td>\n",
       "      <td>1</td>\n",
       "      <td>0</td>\n",
       "      <td>10</td>\n",
       "      <td>1</td>\n",
       "      <td>2</td>\n",
       "      <td>0</td>\n",
       "      <td>12</td>\n",
       "      <td>14.0</td>\n",
       "      <td>NaN</td>\n",
       "      <td>1057</td>\n",
       "    </tr>\n",
       "    <tr>\n",
       "      <th>4</th>\n",
       "      <td>1000002</td>\n",
       "      <td>P00285442</td>\n",
       "      <td>2</td>\n",
       "      <td>6</td>\n",
       "      <td>16</td>\n",
       "      <td>3</td>\n",
       "      <td>4</td>\n",
       "      <td>0</td>\n",
       "      <td>8</td>\n",
       "      <td>NaN</td>\n",
       "      <td>NaN</td>\n",
       "      <td>7969</td>\n",
       "    </tr>\n",
       "    <tr>\n",
       "      <th>5</th>\n",
       "      <td>1000003</td>\n",
       "      <td>P00193542</td>\n",
       "      <td>2</td>\n",
       "      <td>2</td>\n",
       "      <td>15</td>\n",
       "      <td>1</td>\n",
       "      <td>3</td>\n",
       "      <td>0</td>\n",
       "      <td>1</td>\n",
       "      <td>2.0</td>\n",
       "      <td>NaN</td>\n",
       "      <td>15227</td>\n",
       "    </tr>\n",
       "    <tr>\n",
       "      <th>6</th>\n",
       "      <td>1000004</td>\n",
       "      <td>P00184942</td>\n",
       "      <td>2</td>\n",
       "      <td>4</td>\n",
       "      <td>7</td>\n",
       "      <td>2</td>\n",
       "      <td>2</td>\n",
       "      <td>1</td>\n",
       "      <td>1</td>\n",
       "      <td>8.0</td>\n",
       "      <td>17.0</td>\n",
       "      <td>19215</td>\n",
       "    </tr>\n",
       "    <tr>\n",
       "      <th>7</th>\n",
       "      <td>1000004</td>\n",
       "      <td>P00346142</td>\n",
       "      <td>2</td>\n",
       "      <td>4</td>\n",
       "      <td>7</td>\n",
       "      <td>2</td>\n",
       "      <td>2</td>\n",
       "      <td>1</td>\n",
       "      <td>1</td>\n",
       "      <td>15.0</td>\n",
       "      <td>NaN</td>\n",
       "      <td>15854</td>\n",
       "    </tr>\n",
       "    <tr>\n",
       "      <th>8</th>\n",
       "      <td>1000004</td>\n",
       "      <td>P0097242</td>\n",
       "      <td>2</td>\n",
       "      <td>4</td>\n",
       "      <td>7</td>\n",
       "      <td>2</td>\n",
       "      <td>2</td>\n",
       "      <td>1</td>\n",
       "      <td>1</td>\n",
       "      <td>16.0</td>\n",
       "      <td>NaN</td>\n",
       "      <td>15686</td>\n",
       "    </tr>\n",
       "    <tr>\n",
       "      <th>9</th>\n",
       "      <td>1000005</td>\n",
       "      <td>P00274942</td>\n",
       "      <td>2</td>\n",
       "      <td>2</td>\n",
       "      <td>20</td>\n",
       "      <td>1</td>\n",
       "      <td>1</td>\n",
       "      <td>1</td>\n",
       "      <td>8</td>\n",
       "      <td>NaN</td>\n",
       "      <td>NaN</td>\n",
       "      <td>7871</td>\n",
       "    </tr>\n",
       "  </tbody>\n",
       "</table>\n",
       "</div>"
      ],
      "text/plain": [
       "   User_ID Product_ID  Gender  Age  Occupation  City_Category  \\\n",
       "0  1000001  P00069042       1    0          10              1   \n",
       "1  1000001  P00248942       1    0          10              1   \n",
       "2  1000001  P00087842       1    0          10              1   \n",
       "3  1000001  P00085442       1    0          10              1   \n",
       "4  1000002  P00285442       2    6          16              3   \n",
       "5  1000003  P00193542       2    2          15              1   \n",
       "6  1000004  P00184942       2    4           7              2   \n",
       "7  1000004  P00346142       2    4           7              2   \n",
       "8  1000004   P0097242       2    4           7              2   \n",
       "9  1000005  P00274942       2    2          20              1   \n",
       "\n",
       "   Stay_In_Current_City_Years  Marital_Status  Product_Category_1  \\\n",
       "0                           2               0                   3   \n",
       "1                           2               0                   1   \n",
       "2                           2               0                  12   \n",
       "3                           2               0                  12   \n",
       "4                           4               0                   8   \n",
       "5                           3               0                   1   \n",
       "6                           2               1                   1   \n",
       "7                           2               1                   1   \n",
       "8                           2               1                   1   \n",
       "9                           1               1                   8   \n",
       "\n",
       "   Product_Category_2  Product_Category_3  Purchase  \n",
       "0                 NaN                 NaN      8370  \n",
       "1                 6.0                14.0     15200  \n",
       "2                 NaN                 NaN      1422  \n",
       "3                14.0                 NaN      1057  \n",
       "4                 NaN                 NaN      7969  \n",
       "5                 2.0                 NaN     15227  \n",
       "6                 8.0                17.0     19215  \n",
       "7                15.0                 NaN     15854  \n",
       "8                16.0                 NaN     15686  \n",
       "9                 NaN                 NaN      7871  "
      ]
     },
     "execution_count": 41,
     "metadata": {},
     "output_type": "execute_result"
    }
   ],
   "source": [
    "file = current_data\n",
    "file.head(10)"
   ]
  },
  {
   "cell_type": "code",
   "execution_count": 42,
   "metadata": {},
   "outputs": [],
   "source": [
    "stats_purchase = file.Purchase.describe()\n"
   ]
  },
  {
   "cell_type": "code",
   "execution_count": 43,
   "metadata": {},
   "outputs": [
    {
     "name": "stdout",
     "output_type": "stream",
     "text": [
      "count    5375.770000\n",
      "mean       93.338599\n",
      "std        49.810221\n",
      "min         1.850000\n",
      "25%        58.660000\n",
      "50%        80.620000\n",
      "75%       120.730000\n",
      "max       239.610000\n",
      "Name: Purchase, dtype: float64\n"
     ]
    }
   ],
   "source": [
    "print(stats_purchase/100)"
   ]
  },
  {
   "cell_type": "code",
   "execution_count": 44,
   "metadata": {},
   "outputs": [],
   "source": [
    "from scipy.stats import expon"
   ]
  },
  {
   "cell_type": "code",
   "execution_count": 45,
   "metadata": {},
   "outputs": [
    {
     "data": {
      "text/plain": [
       "<matplotlib.axes._subplots.AxesSubplot at 0x1a1ae8e048>"
      ]
     },
     "execution_count": 45,
     "metadata": {},
     "output_type": "execute_result"
    },
    {
     "data": {
      "image/png": "[encoded data removed]",
      "text/plain": [
       "<Figure size 432x288 with 1 Axes>"
      ]
     },
     "metadata": {},
     "output_type": "display_data"
    }
   ],
   "source": [
    "# This is Purchase distribution \n",
    "sns.distplot(file.Purchase, bins = 20,kde = True, rug = False)"
   ]
  },
  {
   "cell_type": "code",
   "execution_count": 46,
   "metadata": {},
   "outputs": [
    {
     "data": {
      "image/png": "[encoded data removed]",
      "text/plain": [
       "<Figure size 1008x720 with 2 Axes>"
      ]
     },
     "metadata": {},
     "output_type": "display_data"
    }
   ],
   "source": [
    "fig, ax = plt.subplots()\n",
    "fig.set_size_inches(14, 10)\n",
    "\n",
    "ax=sns.heatmap(file.corr())"
   ]
  },
  {
   "cell_type": "markdown",
   "metadata": {},
   "source": [
    "# Predicting Purchase"
   ]
  },
  {
   "cell_type": "code",
   "execution_count": 47,
   "metadata": {},
   "outputs": [],
   "source": [
    "data_frame = file[['Gender','Age','Occupation','City_Category','Marital_Status','Product_Category_1','Stay_In_Current_City_Years','Purchase']]"
   ]
  },
  {
   "cell_type": "code",
   "execution_count": 48,
   "metadata": {},
   "outputs": [],
   "source": [
    "X = data_frame.drop('Purchase',axis = 1)\n",
    "y = data_frame['Purchase']"
   ]
  },
  {
   "cell_type": "code",
   "execution_count": 49,
   "metadata": {},
   "outputs": [
    {
     "name": "stdout",
     "output_type": "stream",
     "text": [
      "X train: (376303, 7)\n",
      "X test: (161274, 7)\n",
      "y train: (376303,)\n",
      "y test: (161274,)\n"
     ]
    }
   ],
   "source": [
    "from sklearn.model_selection import train_test_split\n",
    "X_train, X_test, y_train, y_test = train_test_split(X,y, test_size = 0.3, random_state = 42)\n",
    "print('X train:',X_train.shape)\n",
    "print('X test:',X_test.shape)\n",
    "print('y train:',y_train.shape)\n",
    "print('y test:',y_test.shape)"
   ]
  },
  {
   "cell_type": "code",
   "execution_count": 51,
   "metadata": {},
   "outputs": [
    {
     "ename": "ValueError",
     "evalue": "Classification metrics can't handle a mix of multiclass-multioutput and multiclass targets",
     "output_type": "error",
     "traceback": [
      "\u001b[0;31m---------------------------------------------------------------------------\u001b[0m",
      "\u001b[0;31mValueError\u001b[0m                                Traceback (most recent call last)",
      "\u001b[0;32m<ipython-input-51-88ba44aec685>\u001b[0m in \u001b[0;36m<module>\u001b[0;34m()\u001b[0m\n\u001b[1;32m      1\u001b[0m \u001b[0;32mfrom\u001b[0m \u001b[0msklearn\u001b[0m\u001b[0;34m.\u001b[0m\u001b[0mmetrics\u001b[0m \u001b[0;32mimport\u001b[0m \u001b[0maccuracy_score\u001b[0m\u001b[0;34m\u001b[0m\u001b[0m\n\u001b[0;32m----> 2\u001b[0;31m \u001b[0maccuracy_score\u001b[0m\u001b[0;34m(\u001b[0m\u001b[0mX_train\u001b[0m\u001b[0;34m,\u001b[0m\u001b[0my_train\u001b[0m\u001b[0;34m)\u001b[0m\u001b[0;34m\u001b[0m\u001b[0m\n\u001b[0m",
      "\u001b[0;32m~/anaconda3/lib/python3.6/site-packages/sklearn/metrics/classification.py\u001b[0m in \u001b[0;36maccuracy_score\u001b[0;34m(y_true, y_pred, normalize, sample_weight)\u001b[0m\n\u001b[1;32m    174\u001b[0m \u001b[0;34m\u001b[0m\u001b[0m\n\u001b[1;32m    175\u001b[0m     \u001b[0;31m# Compute accuracy for each possible representation\u001b[0m\u001b[0;34m\u001b[0m\u001b[0;34m\u001b[0m\u001b[0m\n\u001b[0;32m--> 176\u001b[0;31m     \u001b[0my_type\u001b[0m\u001b[0;34m,\u001b[0m \u001b[0my_true\u001b[0m\u001b[0;34m,\u001b[0m \u001b[0my_pred\u001b[0m \u001b[0;34m=\u001b[0m \u001b[0m_check_targets\u001b[0m\u001b[0;34m(\u001b[0m\u001b[0my_true\u001b[0m\u001b[0;34m,\u001b[0m \u001b[0my_pred\u001b[0m\u001b[0;34m)\u001b[0m\u001b[0;34m\u001b[0m\u001b[0m\n\u001b[0m\u001b[1;32m    177\u001b[0m     \u001b[0;32mif\u001b[0m \u001b[0my_type\u001b[0m\u001b[0;34m.\u001b[0m\u001b[0mstartswith\u001b[0m\u001b[0;34m(\u001b[0m\u001b[0;34m'multilabel'\u001b[0m\u001b[0;34m)\u001b[0m\u001b[0;34m:\u001b[0m\u001b[0;34m\u001b[0m\u001b[0m\n\u001b[1;32m    178\u001b[0m         \u001b[0mdiffering_labels\u001b[0m \u001b[0;34m=\u001b[0m \u001b[0mcount_nonzero\u001b[0m\u001b[0;34m(\u001b[0m\u001b[0my_true\u001b[0m \u001b[0;34m-\u001b[0m \u001b[0my_pred\u001b[0m\u001b[0;34m,\u001b[0m \u001b[0maxis\u001b[0m\u001b[0;34m=\u001b[0m\u001b[0;36m1\u001b[0m\u001b[0;34m)\u001b[0m\u001b[0;34m\u001b[0m\u001b[0m\n",
      "\u001b[0;32m~/anaconda3/lib/python3.6/site-packages/sklearn/metrics/classification.py\u001b[0m in \u001b[0;36m_check_targets\u001b[0;34m(y_true, y_pred)\u001b[0m\n\u001b[1;32m     79\u001b[0m     \u001b[0;32mif\u001b[0m \u001b[0mlen\u001b[0m\u001b[0;34m(\u001b[0m\u001b[0my_type\u001b[0m\u001b[0;34m)\u001b[0m \u001b[0;34m>\u001b[0m \u001b[0;36m1\u001b[0m\u001b[0;34m:\u001b[0m\u001b[0;34m\u001b[0m\u001b[0m\n\u001b[1;32m     80\u001b[0m         raise ValueError(\"Classification metrics can't handle a mix of {0} \"\n\u001b[0;32m---> 81\u001b[0;31m                          \"and {1} targets\".format(type_true, type_pred))\n\u001b[0m\u001b[1;32m     82\u001b[0m \u001b[0;34m\u001b[0m\u001b[0m\n\u001b[1;32m     83\u001b[0m     \u001b[0;31m# We can't have more than one value on y_type => The set is no more needed\u001b[0m\u001b[0;34m\u001b[0m\u001b[0;34m\u001b[0m\u001b[0m\n",
      "\u001b[0;31mValueError\u001b[0m: Classification metrics can't handle a mix of multiclass-multioutput and multiclass targets"
     ]
    }
   ],
   "source": [
    "from sklearn.metrics import accuracy_score \n",
    "accuracy_score("
   ]
  }
 ],
 "metadata": {
  "kernelspec": {
   "display_name": "Python 3",
   "language": "python",
   "name": "python3"
  },
  "language_info": {
   "codemirror_mode": {
    "name": "ipython",
    "version": 3
   },
   "file_extension": ".py",
   "mimetype": "text/x-python",
   "name": "python",
   "nbconvert_exporter": "python",
   "pygments_lexer": "ipython3",
   "version": "3.6.5"
  }
 },
 "nbformat": 4,
 "nbformat_minor": 2
}
